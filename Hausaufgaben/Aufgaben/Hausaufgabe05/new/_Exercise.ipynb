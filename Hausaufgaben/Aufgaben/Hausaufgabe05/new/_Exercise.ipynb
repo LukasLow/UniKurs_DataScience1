{
 "cells": [
  {
   "attachments": {},
   "cell_type": "markdown",
   "id": "1e15e113",
   "metadata": {},
   "source": [
    "# WARNING: Diese Datei nicht ausführen wir haben sonst ein repo im repo.\n",
    "\n",
    "Hatte hier für eineigenes Repo erstellt \n",
    "https://github.com/LukasLow/UniKurs_DS1_HA5"
   ]
  },
  {
   "attachments": {},
   "cell_type": "markdown",
   "id": "b9054847",
   "metadata": {},
   "source": [
    "ansonsten ist die datei darauf ausgerichtet wenn es das man hier einfach alles ausführen kann und man keine externe dateien benötigt"
   ]
  },
  {
   "cell_type": "code",
   "execution_count": 38,
   "id": "91c243db",
   "metadata": {},
   "outputs": [],
   "source": [
    "mergesort = \"\"\"\n",
    "def ASSIGNMENT(new_list, i, old_list, j):\n",
    "    new_list[i] = old_list[j]\n",
    "\n",
    "\n",
    "def mergeSort(list_to_sort_by_merge):\n",
    "    if (\n",
    "        len(list_to_sort_by_merge) > 1\n",
    "        and not len(list_to_sort_by_merge) < 1\n",
    "        and len(list_to_sort_by_merge) != 0\n",
    "    ):\n",
    "        mid = len(list_to_sort_by_merge) // 2\n",
    "        left = list_to_sort_by_merge[:mid]\n",
    "        right = list_to_sort_by_merge[mid:]\n",
    "\n",
    "        mergeSort(left)\n",
    "        mergeSort(right)\n",
    "\n",
    "        l = 0\n",
    "        r = 0\n",
    "        i = 0\n",
    "\n",
    "        while l < len(left) and r < len(right):\n",
    "            if left[l] <= right[r]:\n",
    "                ASSIGNMENT(new_list=list_to_sort_by_merge, i=i, old_list=left, j=l)\n",
    "                l += 1\n",
    "            else:\n",
    "                ASSIGNMENT(new_list=list_to_sort_by_merge, i=i, old_list=right, j=r)\n",
    "                r += 1\n",
    "            i += 1\n",
    "\n",
    "        while l < len(left):\n",
    "            list_to_sort_by_merge[i] = left[l]\n",
    "            l += 1\n",
    "            i += 1\n",
    "\n",
    "        while r < len(right):\n",
    "            list_to_sort_by_merge[i] = right[r]\n",
    "            r += 1\n",
    "            i += 1\n",
    "\n",
    "\n",
    "import matplotlib.pyplot as plt\n",
    "\n",
    "my_list = [54, 26, 93, 17, 77, 31, 44, 55, 20]\n",
    "x = range(len(my_list))\n",
    "plt.plot(x, my_list)\n",
    "plt.show()\n",
    "mergeSort(my_list)\n",
    "x = range(len(my_list))\n",
    "plt.plot(x, my_list)\n",
    "plt.show()\n",
    "\"\"\"\n",
    "\n",
    "to_be_ignored = \"\"\"\n",
    "something we don't want in our git\n",
    "\"\"\"\n",
    "\n",
    "with open('mergesort.py', 'w') as file:\n",
    "    file.write(mergesort)\n",
    "    \n",
    "with open('to_be_ignored.txt', 'w') as file:\n",
    "    file.write(to_be_ignored)"
   ]
  },
  {
   "attachments": {},
   "cell_type": "markdown",
   "id": "89d0f270-e012-4d95-850d-fbf05fc42281",
   "metadata": {},
   "source": [
    "## Hausaufgabe 5 \n",
    "\n",
    "### Abgabe via studip bis spätestens 19.06. 12:00 Uhr (zur VL)! \n",
    "### Verteidigung 22.06. 08:00-10:00 Uhr (Timeslots werden vorher bekannt gegeben)!\n",
    "\n",
    "\n",
    "- In jedem Blatt kann maximal 5% Bonus erreicht werden, falls:\n",
    "    - Mind. 60% des Arbeitsblatts korrekt bearbeitet wurde und\n",
    "    - das Arbeitsblatt erfolgreich verteidigt (den Tutoren erklärt) wurde.\n",
    "    - Bonus % = 5% * Teil der Hausaufgabe erfolgreich verteidigt\n",
    "    - Erfolgreiche Verteidigung: Ein von uns ausgewähltes Team-Mitglied erklärt die Lösung und beantwortet Fragen dazu.\n",
    "    - ChatGPT und andere Hilfsmittel dürfen verwendet werden, müssen aber zitiert werden.\n",
    "    - Code muss ohne Hilfsmittel erläutert werden\n",
    "- Wir bewerten nicht nur die Korrektheit der Ergebnisse, sondern auch ob der Code effizient, einfach zu verstehen, aufgeräumt und gut dokumentiert ist.\n",
    "- Geben Sie eine Lösung pro Gruppe ab und packen Sie Ihre Lösung in eine Zip-Datei mit dem Namen und Matrikelnummer eines Mitglieds. Also z.B. `mustermann_12345678.zip` "
   ]
  },
  {
   "attachments": {},
   "cell_type": "markdown",
   "id": "c98c6db8-b47c-499d-a5a3-a57cf918f0a0",
   "metadata": {},
   "source": [
    "## Exercise 1\n",
    "**Achtung:** Manche Kommandos sind interaktiv. Daher empfehlen wir alle Anweisungen in einem separaten Terminal auszuführen und anschließend hier zu dokumentieren. \n",
    "\n",
    "**Achtung:** Wir wollen hier das Verwalten von Remote-Repositories, inklusive Forks und Pull-Requests üben. Da es nicht möglich ist sein eigenes Repository zu forken, müssen Sie entweder zwei Benutzer Konten haben (arbeitet in Gruppen) oder Sie legen das Remote-Repository in einer Organisation an (siehe [hier](https://docs.github.com/en/organizations/collaborating-with-groups-in-organizations/creating-a-new-organization-from-scratch)) und forken das Repository dann mit ihrem eigenen Account.  \n",
    "\n",
    "Die Finale Abgabe sollte das gesamte Git-Repository (den Ordner inklusive des versteckten Unterordners `.git` und den Link zu github) beinhalten, welches zeigt dass Sie alle Befehle korrekt ausgeführt haben."
   ]
  },
  {
   "attachments": {},
   "cell_type": "markdown",
   "id": "f8e2ed09-bdc7-4846-812b-a90a6da9711e",
   "metadata": {},
   "source": [
    "#### a) [2.5%] \n",
    "- Erstellen Sie ein neues lokales Repository \n",
    "- Legen Sie die Dateien `mergesort.py` und `to_be_ignored.txt` in das Repository und commiten Sie sie."
   ]
  },
  {
   "cell_type": "code",
   "execution_count": 39,
   "id": "e9ea1105",
   "metadata": {},
   "outputs": [
    {
     "name": "stdout",
     "output_type": "stream",
     "text": [
      "Initialized empty Git repository in /workspaces/UniKurs_DataScience1_HA5/.git/\n",
      "[master (root-commit) abdcb0a] New Repository with two files\n",
      " 1 file changed, 52 insertions(+)\n",
      " create mode 100644 mergesort.py\n"
     ]
    },
    {
     "name": "stderr",
     "output_type": "stream",
     "text": [
      "hint: Using 'master' as the name for the initial branch. This default branch name\n",
      "hint: is subject to change. To configure the initial branch name to use in all\n",
      "hint: of your new repositories, which will suppress this warning, call:\n",
      "hint: \n",
      "hint: \tgit config --global init.defaultBranch <name>\n",
      "hint: \n",
      "hint: Names commonly chosen instead of 'master' are 'main', 'trunk' and\n",
      "hint: 'development'. The just-created branch can be renamed via this command:\n",
      "hint: \n",
      "hint: \tgit branch -m <name>\n",
      "The following paths are ignored by one of your .gitignore files:\n",
      "to_be_ignored.txt\n",
      "hint: Use -f if you really want to add them.\n",
      "hint: Turn this message off by running\n",
      "hint: \"git config advice.addIgnoredFile false\"\n"
     ]
    }
   ],
   "source": [
    "%%bash\n",
    "git init\n",
    "git add mergesort.py\n",
    "git add to_be_ignored.txt\n",
    "git commit -m \"New Repository with two files\""
   ]
  },
  {
   "attachments": {},
   "cell_type": "markdown",
   "id": "23b63840-7c4d-40cd-9fe2-c51a869fc0ec",
   "metadata": {},
   "source": [
    "#### b) [5%]\n",
    "- Erstellen Sie eine `.gitignore` Datei (siehe [hier](https://github.com/github/gitignore) für Beispiele von nützlichen gitignore Vorlagen). \n",
    "- Fügen Sie `to_be_ignored.txt` zur `.gitignore` hinzu und entfernen Sie sie aus der Git-Historie."
   ]
  },
  {
   "cell_type": "code",
   "execution_count": 40,
   "id": "62f99fbe",
   "metadata": {},
   "outputs": [
    {
     "name": "stdout",
     "output_type": "stream",
     "text": [
      "WARNING: git-filter-branch has a glut of gotchas generating mangled history\n",
      "\t rewrites.  Hit Ctrl-C before proceeding to abort, then use an\n",
      "\t alternative filtering tool such as 'git filter-repo'\n",
      "\t (https://github.com/newren/git-filter-repo/) instead.  See the\n",
      "\t filter-branch manual page for more details; to squelch this warning,\n",
      "\t set FILTER_BRANCH_SQUELCH_WARNING=1.\n",
      "Proceeding with filter-branch...\n",
      "\n",
      "Rewrite abdcb0a9dbe698cc144d60dc953d341bdc7e419f (1/1) (0 seconds passed, remaining 0 predicted)    \n"
     ]
    },
    {
     "name": "stderr",
     "output_type": "stream",
     "text": [
      "WARNING: Ref 'refs/heads/master' is unchanged\n"
     ]
    }
   ],
   "source": [
    "%%bash\n",
    "echo \"to_be_ignored.txt\" > .gitignore\n",
    "git filter-branch --tree-filter 'rm -f ./to_be_ignored.txt' HEAD"
   ]
  },
  {
   "attachments": {},
   "cell_type": "markdown",
   "id": "ab7a9d11-89eb-4716-8571-34766d4c976f",
   "metadata": {},
   "source": [
    "#### c) [15%]\n",
    "- Erstellen Sie einen neuen Branch\n",
    "- Bereinigen Sie die Datei `mergesort.py`, um die Regeln für sauberen Code zu befolgen, die wir in der Vorlesung aufgestellt haben. \n",
    "- Versuchen Sie auch, den Code zu verstehen (siehe z.B. [hier](https://www.happycoders.eu/de/algorithmen/mergesort/) für eine Erklärung des Algorithmus) und dokumentieren Sie den Code.\n",
    "- Seine Funktionalität sollte sich nicht ändern!\n",
    "- Es sollte mindestens 7 Punkte geben, die zu verbessern sind.\n",
    "- Commiten Sie Ihre Änderungen."
   ]
  },
  {
   "cell_type": "code",
   "execution_count": 41,
   "id": "75e295c5",
   "metadata": {},
   "outputs": [
    {
     "name": "stderr",
     "output_type": "stream",
     "text": [
      "Switched to branch 'aufgabe_1c'\n"
     ]
    }
   ],
   "source": [
    "%%bash\n",
    "git branch aufgabe_1c\n",
    "git switch aufgabe_1c"
   ]
  },
  {
   "cell_type": "code",
   "execution_count": 42,
   "id": "ee7c7ea7",
   "metadata": {},
   "outputs": [],
   "source": [
    "new_mergesort = \"\"\"\n",
    "import matplotlib.pyplot as plt\n",
    "\n",
    "# def ASSIGNMENT(new_list, i, old_list, j):\n",
    "    # wird nicht benötigt\n",
    "    # Funktionen werden grundsätzlich klein geschrieben\n",
    "#     new_list[i] = old_list[j]\n",
    "\n",
    "\n",
    "def merge_sort(list_to_sort_by_merge):\n",
    "    # aus mergeSort wird merge_sort\n",
    "    ## Überprüfen, ob die Liste mehr als ein Element enthält\n",
    "    if (\n",
    "        len(list_to_sort_by_merge) > 1\n",
    "        # and not len(list_to_sort_by_merge) < 1\n",
    "        # and len(list_to_sort_by_merge) != 0    beide zeilen sind unnötig\n",
    "    ):\n",
    "        mid = len(list_to_sort_by_merge) // 2\n",
    "        left = list_to_sort_by_merge[:mid]\n",
    "        right = list_to_sort_by_merge[mid:]\n",
    "\n",
    "        ## Rekursiver Aufruf von merge_sort für die linke und rechte Hälfte der Liste\n",
    "        merge_sort(left)\n",
    "        merge_sort(right)\n",
    "\n",
    "        ## Initialisierung der Indizes\n",
    "        l = 0\n",
    "        r = 0\n",
    "        i = 0\n",
    "\n",
    "        ## Vergleiche und Zusammenführen der sortierten Hälften\n",
    "        while l < len(left) and r < len(right):\n",
    "            if left[l] <= right[r]:\n",
    "                # hier wird nicht mehr die ASSIGNMENT-Funktion verwendet\n",
    "                ## Füge das kleinere Element aus der linken Hälfte in die resultierende Liste ein\n",
    "                list_to_sort[i] = left[l]\n",
    "                l += 1\n",
    "            else:\n",
    "                # hier wird nicht mehr die ASSIGNMENT-Funktion verwendet\n",
    "                ## Füge das kleinere Element aus der rechten Hälfte in die resultierende Liste ein\n",
    "                list_to_sort[i] = right[r]\n",
    "                r += 1\n",
    "            i += 1\n",
    "\n",
    "        ## Füge die restlichen Elemente aus der linken Hälfte hinzu\n",
    "        while l < len(left):\n",
    "            # hier wird nicht mehr die ASSIGNMENT-Funktion verwendet\n",
    "            list_to_sort_by_merge[i] = left[l]\n",
    "            l += 1\n",
    "            i += 1\n",
    "\n",
    "        ## Füge die restlichen Elemente aus der rechten Hälfte hinzu\n",
    "        while r < len(right):\n",
    "            # hier wird nicht mehr die ASSIGNMENT-Funktion verwendet\n",
    "            list_to_sort_by_merge[i] = right[r]\n",
    "            r += 1\n",
    "            i += 1\n",
    "\n",
    "# Leerzeilen für bessere Übersichtlichkeit\n",
    "## Eingangsliste\n",
    "my_list = [54, 26, 93, 17, 77, 31, 44, 55, 20]\n",
    "\n",
    "## Plot der Eingangsliste\n",
    "x = range(len(my_list))\n",
    "plt.plot(x, my_list)\n",
    "plt.show()\n",
    "\n",
    "## Aufruf der merge_sort Funktion, um die Liste zu sortieren\n",
    "merge_sort(my_list)\n",
    "\n",
    "## Plot der sortierten Liste\n",
    "x = range(len(my_list))\n",
    "plt.plot(x, my_list)\n",
    "plt.show()\n",
    "\"\"\"\n",
    "    \n",
    "\n",
    "with open('mergesort.py', 'w') as file:\n",
    "    file.write(new_mergesort)"
   ]
  },
  {
   "cell_type": "code",
   "execution_count": 43,
   "id": "ed39ca21",
   "metadata": {},
   "outputs": [
    {
     "name": "stdout",
     "output_type": "stream",
     "text": [
      "[aufgabe_1c 5a2bee8] New Repository with two files\n",
      " 1 file changed, 35 insertions(+), 13 deletions(-)\n"
     ]
    }
   ],
   "source": [
    "%%bash\n",
    "git add mergesort.py\n",
    "git commit -m \"New Repository with two files\""
   ]
  },
  {
   "attachments": {},
   "cell_type": "markdown",
   "id": "1c131abc-c1b0-4b97-ac37-04abad5f5e99",
   "metadata": {},
   "source": [
    "#### d) [5%]\n",
    "- Erstellen Sie ein neues Repository auf GitHub (machen Sie es public). \n",
    "- Richten Sie eine ssh-Verifizierung für Ihr GitHub-Konto ein. \n",
    "- Fügen Sie die ssh-Adresse Ihres Repositorys als neues remote Repository zu Ihrem lokalen Repository hinzu.  "
   ]
  },
  {
   "attachments": {},
   "cell_type": "markdown",
   "id": "31c47c0f",
   "metadata": {},
   "source": [
    "![pic](pics/SCR-20230619-cnjk.png)"
   ]
  },
  {
   "cell_type": "code",
   "execution_count": 44,
   "id": "3bfcb4bc",
   "metadata": {},
   "outputs": [
    {
     "name": "stdout",
     "output_type": "stream",
     "text": [
      "Generating public/private rsa key pair.\n",
      "Your identification has been saved in /home/vscode/.ssh/rsa\n",
      "Your public key has been saved in /home/vscode/.ssh/rsa.pub\n",
      "The key fingerprint is:\n",
      "SHA256:HyDm0fnWR9SvK6OK10DGCOcCzHjm8KofGAxu50OpQV8 csdrfzignesfauignvb@email.lowsky.eu\n",
      "The key's randomart image is:\n",
      "+---[RSA 3072]----+\n",
      "| +            .. |\n",
      "|o * . .. .   .  .|\n",
      "|.B . E+o+     . .|\n",
      "|= + +ooo+o . .  .|\n",
      "|.* = ..oS + . .. |\n",
      "|oo*     .o . ..  |\n",
      "|o..o     o.    . |\n",
      "|.  ..  .. . o .  |\n",
      "| ..   ...... o   |\n",
      "+----[SHA256]-----+\n",
      "ssh-rsa AAAAB3NzaC1yc2EAAAADAQABAAABgQDc9RBg6QMZx30eGxfvpQYI10enV6tevKpbCoYtY9YJApV48BySt5SLgq47VNIj48s6YIts0ntm1mnKF4mdDgQBHPEv6+xq7+gfjeZEFk4hH3pdC8ERL2nEsFptir2NUH2esG3jN23qvpb8JVbwD/cVmUl8qSZQ+4q9b+ECmADGJ/pnGp+2qdE3qYnX8lld3eBFjRcuwlAh+ekKo4XXvuBouKyFWBSZMOJaSrWW3Fb4yXLXA84PKob/WkVU1dr/5+pW3ZFkQo5tYkzdnenEvNR5kQawMHYv1vBFaDDMHT3xCzBvMmsGnQSUq+6Fhre8O6bnVTv/uqeqPILnc/C6GowLd03joT8syNEbI0X1CmDzfehVCkamXZIj6ScshHwPouD8n35i30Wr9pxwOsB0u613c7htmugJ2M20KkI4GA8yh8szHF5UZnvC4pPBUTUwoZwxYFCWkHclSk3NlWWWYOQ9qOP0gC6gc2d6DUUR66pEFysshafwGdeIjRJ7s/pZwrk= csdrfzignesfauignvb@email.lowsky.eu\n"
     ]
    }
   ],
   "source": [
    "%%bash\n",
    "rm -r /home/vscode/.ssh/rsa\n",
    "rm -r /home/vscode/.ssh/rsa.pub\n",
    "ssh-keygen -t rsa -C \"csdrfzignesfauignvb@email.lowsky.eu\" -N \"\"  -f \"/home/vscode/.ssh/rsa\"\n",
    "cat ~/.ssh/rsa.pub"
   ]
  },
  {
   "attachments": {},
   "cell_type": "markdown",
   "id": "fc219505",
   "metadata": {},
   "source": [
    "![Gif](pics/ezgif.com-resize.gif)"
   ]
  },
  {
   "cell_type": "code",
   "execution_count": 45,
   "id": "be3b9797",
   "metadata": {},
   "outputs": [],
   "source": [
    "%%bash\n",
    "git remote add origin https://github.com/LukasLow/UniKurs_DS1_HA5.git"
   ]
  },
  {
   "attachments": {},
   "cell_type": "markdown",
   "id": "5a03706d-c986-48c9-9207-2ff59770b7f4",
   "metadata": {},
   "source": [
    "#### e) [2.5%]\n",
    "- Wechseln Sie zurück zum `main` Branch.\n",
    "- Pushen Sie in Ihr remote Repository"
   ]
  },
  {
   "cell_type": "code",
   "execution_count": 49,
   "id": "fe7c6a6e",
   "metadata": {},
   "outputs": [
    {
     "name": "stdout",
     "output_type": "stream",
     "text": [
      "branch 'main' set up to track 'origin/main'.\n",
      "branch 'aufgabe_1c' set up to track 'origin/aufgabe_1c'.\n"
     ]
    },
    {
     "name": "stderr",
     "output_type": "stream",
     "text": [
      "Everything up-to-date\n",
      "remote: \n",
      "remote: Create a pull request for 'aufgabe_1c' on GitHub by visiting:        \n",
      "remote:      https://github.com/LukasLow/UniKurs_DS1_HA5/pull/new/aufgabe_1c        \n",
      "remote: \n",
      "To https://github.com/LukasLow/UniKurs_DS1_HA5.git\n",
      " * [new branch]      aufgabe_1c -> aufgabe_1c\n"
     ]
    }
   ],
   "source": [
    "%%bash\n",
    "git branch -M main\n",
    "git push -u origin main\n",
    "git push -u origin aufgabe_1c"
   ]
  },
  {
   "attachments": {},
   "cell_type": "markdown",
   "id": "6d91483e-0a00-4fba-958d-fea707fd47e2",
   "metadata": {},
   "source": [
    "#### f) [5%]\n",
    "- Ändern Sie den Plotting-Teil von `mergesort.py` so, dass er die in der Vorlesung festgelegten Standards widerspiegelt. (Versuchen Sie auch zu überlegen, was die beste Art Plot für diese Daten sein könnte.)\n",
    "- Commiten Sie es und pushen Sie es in das remote Repository."
   ]
  },
  {
   "cell_type": "code",
   "execution_count": null,
   "id": "f848a061",
   "metadata": {},
   "outputs": [],
   "source": [
    "new_mergesort_plot = \"\"\"\n",
    "import matplotlib.pyplot as plt\n",
    "\n",
    "# def ASSIGNMENT(new_list, i, old_list, j):\n",
    "    # wird nicht benötigt\n",
    "    # Funktionen werden grundsätzlich klein geschrieben\n",
    "#     new_list[i] = old_list[j]\n",
    "\n",
    "\n",
    "def merge_sort(list_to_sort_by_merge):\n",
    "    # aus mergeSort wird merge_sort\n",
    "    ## Überprüfen, ob die Liste mehr als ein Element enthält\n",
    "    if (\n",
    "        len(list_to_sort_by_merge) > 1\n",
    "        # and not len(list_to_sort_by_merge) < 1\n",
    "        # and len(list_to_sort_by_merge) != 0    beide zeilen sind unnötig\n",
    "    ):\n",
    "        mid = len(list_to_sort_by_merge) // 2\n",
    "        left = list_to_sort_by_merge[:mid]\n",
    "        right = list_to_sort_by_merge[mid:]\n",
    "\n",
    "        ## Rekursiver Aufruf von merge_sort für die linke und rechte Hälfte der Liste\n",
    "        merge_sort(left)\n",
    "        merge_sort(right)\n",
    "\n",
    "        ## Initialisierung der Indizes\n",
    "        l = 0\n",
    "        r = 0\n",
    "        i = 0\n",
    "\n",
    "        ## Vergleiche und Zusammenführen der sortierten Hälften\n",
    "        while l < len(left) and r < len(right):\n",
    "            if left[l] <= right[r]:\n",
    "                # hier wird nicht mehr die ASSIGNMENT-Funktion verwendet\n",
    "                ## Füge das kleinere Element aus der linken Hälfte in die resultierende Liste ein\n",
    "                list_to_sort[i] = left[l]\n",
    "                l += 1\n",
    "            else:\n",
    "                # hier wird nicht mehr die ASSIGNMENT-Funktion verwendet\n",
    "                ## Füge das kleinere Element aus der rechten Hälfte in die resultierende Liste ein\n",
    "                list_to_sort[i] = right[r]\n",
    "                r += 1\n",
    "            i += 1\n",
    "\n",
    "        ## Füge die restlichen Elemente aus der linken Hälfte hinzu\n",
    "        while l < len(left):\n",
    "            # hier wird nicht mehr die ASSIGNMENT-Funktion verwendet\n",
    "            list_to_sort_by_merge[i] = left[l]\n",
    "            l += 1\n",
    "            i += 1\n",
    "\n",
    "        ## Füge die restlichen Elemente aus der rechten Hälfte hinzu\n",
    "        while r < len(right):\n",
    "            # hier wird nicht mehr die ASSIGNMENT-Funktion verwendet\n",
    "            list_to_sort_by_merge[i] = right[r]\n",
    "            r += 1\n",
    "            i += 1\n",
    "\n",
    "# Leerzeilen für bessere Übersichtlichkeit\n",
    "## Eingangsliste\n",
    "my_list = [54, 26, 93, 17, 77, 31, 44, 55, 20]\n",
    "\n",
    "## Plot der Eingangsliste\n",
    "x = range(len(my_list))\n",
    "plt.plot(x, my_list)\n",
    "plt.show()\n",
    "\n",
    "## Aufruf der merge_sort Funktion, um die Liste zu sortieren\n",
    "merge_sort(my_list)\n",
    "\n",
    "## Plot der sortierten Liste\n",
    "x = range(len(my_list))\n",
    "plt.plot(x, my_list)\n",
    "plt.show()\n",
    "\"\"\"\n",
    "    \n",
    "\n",
    "with open('mergesort.py', 'w') as file:\n",
    "    file.write(new_mergesort_plot)"
   ]
  },
  {
   "attachments": {},
   "cell_type": "markdown",
   "id": "3f4d7088-60b8-41b5-9806-114839f8e8cb",
   "metadata": {},
   "source": [
    "#### g) [2.5%]\n",
    " - Wechseln Sie zurück zum vorherigen Branch. \n",
    " - Erstellen Sie einen Fork des remote Repositorys auf GitHub. **Dies muss durch einen anderen Benutzer geschehen, falls das original Repository nicht zu einer Organisation gehört!**  \n",
    " - Fügen Sie den Fork als weiteres remote Repository zu Ihrem lokalen Repository hinzu. \n",
    " - Pushen Sie Ihren lokalen Branch in den Fork und erstellen Sie einen Pull-Request auf GitHub."
   ]
  },
  {
   "cell_type": "code",
   "execution_count": null,
   "id": "36d55c11",
   "metadata": {},
   "outputs": [],
   "source": [
    "%%bash"
   ]
  },
  {
   "attachments": {},
   "cell_type": "markdown",
   "id": "6d9dbf98-3ea2-4b7f-8b8b-eb4526784c28",
   "metadata": {},
   "source": [
    "#### h) [10%]\n",
    "- Der Pull-Request sollte anzeigen, dass es Konflikte gibt. \n",
    "- Mergen Sie den `main`-Branch (lokal auf Ihrem Computer) in Ihren Feature-Branch ein (nicht umgekehrt!) und lösen Sie die Konflikte.\n",
    "- Pushen Sie Ihren Feature-Branch wieder in Ihren Fork und mergen Sie den Pull-Request."
   ]
  },
  {
   "cell_type": "code",
   "execution_count": null,
   "id": "2248a9a7",
   "metadata": {},
   "outputs": [],
   "source": [
    "%%bash\n"
   ]
  },
  {
   "attachments": {},
   "cell_type": "markdown",
   "id": "8f690324-815f-4e2e-807b-3e6f87f483dd",
   "metadata": {},
   "source": [
    "#### i) [2.5%]\n",
    "- Wechseln Sie zurück zum \"main\"-Branch und pullen Sie aus dem remote Repository.\n",
    "- Löschen Sie den lokalen Feature-Branch (er ist ja bereits im main Branch)."
   ]
  },
  {
   "cell_type": "code",
   "execution_count": null,
   "id": "677abe5f",
   "metadata": {},
   "outputs": [],
   "source": [
    "%%bash\n",
    "git checkout main\n",
    "git pull origin main\n",
    "git branch -d feature-branch\n",
    "# -d = delete"
   ]
  },
  {
   "attachments": {},
   "cell_type": "markdown",
   "id": "d44e4b00-95cf-4be3-8b46-90d53bfad0aa",
   "metadata": {},
   "source": [
    "Zeigen Sie ihre Git-Historie an:"
   ]
  },
  {
   "cell_type": "code",
   "execution_count": null,
   "id": "b4db096d-eeaf-442e-8620-6b76bb4f33eb",
   "metadata": {},
   "outputs": [],
   "source": [
    "%%bash\n",
    "git log"
   ]
  },
  {
   "attachments": {},
   "cell_type": "markdown",
   "id": "2932b317-11a9-4cfd-9757-519c0cd4a396",
   "metadata": {},
   "source": [
    "## Exercise 2"
   ]
  },
  {
   "attachments": {},
   "cell_type": "markdown",
   "id": "39e88314-ea52-4e2a-a106-41e006e64b29",
   "metadata": {},
   "source": [
    "Betrachten Sie die folgende Aufgabe:\n",
    "\n",
    "Gegeben eine Array von Intergern in dem alle Elemente außer eins genau zweimal vorkommen, finden Sie das einzelne Element.\n",
    "\n",
    "Beispiel: `[1,2,3,4,3,1,2]`\n",
    "\n",
    "Das einzelne Element ist: `4`\n",
    "\n",
    "Sie können annehmen dass das Array ungerade Länge hat und es nur eine Element gibt dass nur genau einmal vorkommt.\n",
    "\n",
    "Hinweis: Die folgenden Aufgaben müssen nicht notwendigerweise in Reihenfolge bearbeitet werden.\n"
   ]
  },
  {
   "attachments": {},
   "cell_type": "markdown",
   "id": "1be8bfc4-a31b-49ee-8ceb-f8c8daa863de",
   "metadata": {},
   "source": [
    "#### a) [15%] Schreiben Sie test-Fälle für die oben beschrieben Aufgabe. \n",
    "(Mind. 5 Testfälle nötig!) \n",
    "Denken Sie an mögliche Randfälle und ungültige Eingaben.\n",
    "\n",
    "**Benutzen sie `pytest` und schreiben Sie die Tests in separate Dateien.**"
   ]
  },
  {
   "cell_type": "code",
   "execution_count": null,
   "id": "7ca9e4f9",
   "metadata": {},
   "outputs": [],
   "source": [
    "two_a = \"\"\"\n",
    "import matplotlib.pyplot as plt\n",
    "import pytest\n",
    "\n",
    "from mergesort import mergeSort, ASSIGNMENT\n",
    "\n",
    "\n",
    "def test_mergeSort():\n",
    "    my_list = [54, 26, 93, 17, 77, 31, 44, 55, 20]\n",
    "    expected_sorted_list = [17, 20, 26, 31, 44, 54, 55, 77, 93]\n",
    "\n",
    "    mergeSort(my_list)\n",
    "    assert my_list == expected_sorted_list\n",
    "\n",
    "    # Test with an empty list\n",
    "    empty_list = []\n",
    "    mergeSort(empty_list)\n",
    "    assert empty_list == []\n",
    "\n",
    "    # Test with a list of one element\n",
    "    single_element_list = [42]\n",
    "    mergeSort(single_element_list)\n",
    "    assert single_element_list == [42]\n",
    "\n",
    "\n",
    "if __name__ == \"__main__\":\n",
    "    pytest.main()\n",
    "\"\"\"\n",
    "\n",
    "with open('mergesort_test.py', 'w') as file:\n",
    "    file.write(two_a)"
   ]
  },
  {
   "cell_type": "code",
   "execution_count": 52,
   "id": "b5de83f0",
   "metadata": {},
   "outputs": [
    {
     "name": "stdout",
     "output_type": "stream",
     "text": [
      "import matplotlib.pyplot as plt\n",
      "import pytest\n",
      "\n",
      "from mergesort import mergeSort, ASSIGNMENT\n",
      "\n",
      "\n",
      "def test_mergeSort():\n",
      "    my_list = [54, 26, 93, 17, 77, 31, 44, 55, 20]\n",
      "    expected_sorted_list = [17, 20, 26, 31, 44, 54, 55, 77, 93]\n",
      "\n",
      "    mergeSort(my_list)\n",
      "    assert my_list == expected_sorted_list\n",
      "\n",
      "    # Test with an empty list\n",
      "    empty_list = []\n",
      "    mergeSort(empty_list)\n",
      "    assert empty_list == []\n",
      "\n",
      "    # Test with a list of one element\n",
      "    single_element_list = [42]\n",
      "    mergeSort(single_element_list)\n",
      "    assert single_element_list == [42]\n",
      "\n",
      "\n",
      "if __name__ == \"__main__\":\n",
      "    pytest.main()\n",
      "============================= test session starts ==============================\n",
      "platform linux -- Python 3.9.13, pytest-7.1.2, pluggy-1.0.0\n",
      "rootdir: /workspaces/UniKurs_DataScience1_HA5\n",
      "plugins: anyio-3.5.0\n",
      "collected 1 item\n",
      "\n",
      "mergesort_test.py .                                                      [100%]\n",
      "\n",
      "============================== 1 passed in 0.86s ===============================\n"
     ]
    }
   ],
   "source": [
    "%%bash\n",
    "cat \"mergesort_test.py\"\n",
    "pytest"
   ]
  },
  {
   "attachments": {},
   "cell_type": "markdown",
   "id": "1a6141b7-2f71-4ff2-8dfe-55e837ee512e",
   "metadata": {},
   "source": [
    "#### b) [10%] Basierend auf den test-Fällen, schreiben Sie eine Methode welche den Task erfolgreich (und effizient) löst."
   ]
  },
  {
   "attachments": {},
   "cell_type": "markdown",
   "id": "fe34d47b-87c5-4b09-9971-afa77a183380",
   "metadata": {},
   "source": [
    "Die Methode soll ebenfalls in eine separate Datei geschrieben werden."
   ]
  },
  {
   "cell_type": "code",
   "execution_count": null,
   "id": "a8c08a0b",
   "metadata": {},
   "outputs": [],
   "source": [
    "two_b = \"\"\"\n",
    "def mergeSort(list_to_sort_by_merge):\n",
    "    if len(list_to_sort_by_merge) <= 1:\n",
    "        return list_to_sort_by_merge\n",
    "\n",
    "    mid = len(list_to_sort_by_merge) // 2\n",
    "    left = list_to_sort_by_merge[:mid]\n",
    "    right = list_to_sort_by_merge[mid:]\n",
    "\n",
    "    left = mergeSort(left)\n",
    "    right = mergeSort(right)\n",
    "\n",
    "    return merge(left, right)\n",
    "\n",
    "\n",
    "def merge(left, right):\n",
    "    merged = []\n",
    "    i = j = 0\n",
    "\n",
    "    while i < len(left) and j < len(right):\n",
    "        if left[i] <= right[j]:\n",
    "            merged.append(left[i])\n",
    "            i += 1\n",
    "        else:\n",
    "            merged.append(right[j])\n",
    "            j += 1\n",
    "\n",
    "    # Append remaining elements\n",
    "    merged.extend(left[i:])\n",
    "    merged.extend(right[j:])\n",
    "\n",
    "    return merged\n",
    "\n",
    "\"\"\"\n",
    "\n",
    "with open('mergesort_2b.py', 'w') as file:\n",
    "    file.write(two_b)"
   ]
  },
  {
   "cell_type": "code",
   "execution_count": null,
   "id": "df67c317",
   "metadata": {},
   "outputs": [],
   "source": [
    "%%bash\n",
    "cat \"mergesort_2b.py\""
   ]
  },
  {
   "attachments": {},
   "cell_type": "markdown",
   "id": "4af37373-85a5-4e27-96a9-0c093f56a2c8",
   "metadata": {},
   "source": [
    "#### c) [10%] Schreiben Sie ein Docker-File welches `numpy`, `pandas`, `matplotlib` und `seaborn` installiert. "
   ]
  },
  {
   "cell_type": "code",
   "execution_count": null,
   "id": "17da5d3b",
   "metadata": {},
   "outputs": [],
   "source": [
    "two_c = \"\"\"\n",
    "## Dockerfile\n",
    "\n",
    "# Start from a base Python 3.9 image\n",
    "FROM python:3.9\n",
    "\n",
    "# Set the working directory to /\n",
    "WORKDIR /app\n",
    "\n",
    "# Copy the requirements.txt file and install Python dependencies\n",
    "COPY requirements.txt requirements.txt\n",
    "RUN pip install numpy pandas matplotlib seaborn\n",
    "RUN pip install -r requirements.txt\n",
    "\n",
    "# Copy the rest of the project\n",
    "COPY . .\n",
    "\n",
    "# Set the host and port using environment variables\n",
    "ENV PORT=8080\n",
    "\n",
    "# Expose the port\n",
    "EXPOSE $PORT\n",
    "\n",
    "#DEBUG\n",
    "RUN pwd\n",
    "RUN find / -name \"*\" | grep -vE \"^/(var|usr|sbin|etc|sys|proc|lib|root)\"\n",
    " \n",
    "# Run the application\n",
    "CMD [\"python\", \"mergesort.py\"]\n",
    "\"\"\"\n",
    "\n",
    "with open('DOCKERFILE', 'w') as file:\n",
    "    file.write(two_c)"
   ]
  },
  {
   "cell_type": "code",
   "execution_count": null,
   "id": "6922393a",
   "metadata": {},
   "outputs": [],
   "source": [
    "%%bash\n",
    "cat \"DOCKERFILE\""
   ]
  },
  {
   "attachments": {},
   "cell_type": "markdown",
   "id": "4101f101-6a16-4308-add4-f4dc94ec8a9c",
   "metadata": {},
   "source": [
    "#### d) [15%] Schreiben Sie eine Docker-compose Datei, welche zwei verschiedene services anbietet:\n",
    "\n",
    "1. Alle Tests durchlaufen lassen\n",
    "2. Die Methode für einen gegebenen Input laufen lassen.\n",
    "\n",
    "Stellen Sie auch sicher dass der Container das Verzeichnis mit Ihren Skripten mountet, sodass Sie zugriff auf die aktuelle Version Ihres Codes haben.\n",
    "\n",
    "Demonstrieren Sie in einem Test auch dass die angegebenen Libraries aus c) erfolgreich installiert sind."
   ]
  },
  {
   "cell_type": "code",
   "execution_count": null,
   "id": "915e2dbc",
   "metadata": {},
   "outputs": [],
   "source": [
    "two_d = \"\"\"\n",
    "version: \"3\"\n",
    "services:\n",
    "  run-tests:\n",
    "    build:\n",
    "      context: .\n",
    "    volumes:\n",
    "      - .:/app\n",
    "    command: pytest\n",
    "\n",
    "  run-method:\n",
    "    build:\n",
    "      context: .\n",
    "    volumes:\n",
    "      - .:/app\n",
    "    command: python mergesort.py\n",
    "\n",
    "\"\"\"\n",
    "\n",
    "\n",
    "with open('dockercompose.yml', 'w') as file:\n",
    "    file.write(two_d)"
   ]
  },
  {
   "cell_type": "code",
   "execution_count": 51,
   "id": "feb8fb48-b980-4e0f-8c16-1373e375c63b",
   "metadata": {},
   "outputs": [
    {
     "name": "stdout",
     "output_type": "stream",
     "text": [
      "version: \"3\"\n",
      "services:\n",
      "  run-tests:\n",
      "    build:\n",
      "      context: .\n",
      "    volumes:\n",
      "      - .:/app\n",
      "    command: pytest\n",
      "\n",
      "  run-method:\n",
      "    build:\n",
      "      context: .\n",
      "    volumes:\n",
      "      - .:/app\n",
      "    command: python main.py\n"
     ]
    }
   ],
   "source": [
    "%%bash\n",
    "cat \"dockercompose.yml\"\n",
    "\n",
    "#docker-compose run run-tests\n",
    "\n",
    "#docker-compose run run-method\n"
   ]
  }
 ],
 "metadata": {
  "kernelspec": {
   "display_name": "Python 3",
   "language": "python",
   "name": "python3"
  },
  "language_info": {
   "codemirror_mode": {
    "name": "ipython",
    "version": 3
   },
   "file_extension": ".py",
   "mimetype": "text/x-python",
   "name": "python",
   "nbconvert_exporter": "python",
   "pygments_lexer": "ipython3",
   "version": "3.9.13"
  }
 },
 "nbformat": 4,
 "nbformat_minor": 5
}
