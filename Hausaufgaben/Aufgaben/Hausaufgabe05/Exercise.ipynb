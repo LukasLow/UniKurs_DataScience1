{
 "cells": [
  {
   "attachments": {},
   "cell_type": "markdown",
   "id": "89d0f270-e012-4d95-850d-fbf05fc42281",
   "metadata": {},
   "source": [
    "## Hausaufgabe 5 \n",
    "\n",
    "### Abgabe via studip bis spätestens 19.06. 12:00 Uhr (zur VL)! \n",
    "### Verteidigung 22.06. 08:00-10:00 Uhr (Timeslots werden vorher bekannt gegeben)!\n",
    "\n",
    "\n",
    "- In jedem Blatt kann maximal 5% Bonus erreicht werden, falls:\n",
    "    - Mind. 60% des Arbeitsblatts korrekt bearbeitet wurde und\n",
    "    - das Arbeitsblatt erfolgreich verteidigt (den Tutoren erklärt) wurde.\n",
    "    - Bonus % = 5% * Teil der Hausaufgabe erfolgreich verteidigt\n",
    "    - Erfolgreiche Verteidigung: Ein von uns ausgewähltes Team-Mitglied erklärt die Lösung und beantwortet Fragen dazu.\n",
    "    - ChatGPT und andere Hilfsmittel dürfen verwendet werden, müssen aber zitiert werden.\n",
    "    - Code muss ohne Hilfsmittel erläutert werden\n",
    "- Wir bewerten nicht nur die Korrektheit der Ergebnisse, sondern auch ob der Code effizient, einfach zu verstehen, aufgeräumt und gut dokumentiert ist.\n",
    "- Geben Sie eine Lösung pro Gruppe ab und packen Sie Ihre Lösung in eine Zip-Datei mit dem Namen und Matrikelnummer eines Mitglieds. Also z.B. `mustermann_12345678.zip` "
   ]
  },
  {
   "attachments": {},
   "cell_type": "markdown",
   "id": "c98c6db8-b47c-499d-a5a3-a57cf918f0a0",
   "metadata": {},
   "source": [
    "## Exercise 1\n",
    "**Achtung:** Manche Kommandos sind interaktiv. Daher empfehlen wir alle Anweisungen in einem separaten Terminal auszuführen und anschließend hier zu dokumentieren. \n",
    "\n",
    "**Achtung:** Wir wollen hier das Verwalten von Remote-Repositories, inklusive Forks und Pull-Requests üben. Da es nicht möglich ist sein eigenes Repository zu forken, müssen Sie entweder zwei Benutzer Konten haben (arbeitet in Gruppen) oder Sie legen das Remote-Repository in einer Organisation an (siehe [hier](https://docs.github.com/en/organizations/collaborating-with-groups-in-organizations/creating-a-new-organization-from-scratch)) und forken das Repository dann mit ihrem eigenen Account.  \n",
    "\n",
    "Die Finale Abgabe sollte das gesamte Git-Repository (den Ordner inklusive des versteckten Unterordners `.git` und den Link zu github) beinhalten, welches zeigt dass Sie alle Befehle korrekt ausgeführt haben."
   ]
  },
  {
   "attachments": {},
   "cell_type": "markdown",
   "id": "f8e2ed09-bdc7-4846-812b-a90a6da9711e",
   "metadata": {},
   "source": [
    "#### a) [2.5%] \n",
    "- Erstellen Sie ein neues lokales Repository \n",
    "- Legen Sie die Dateien `mergesort.py` und `to_be_ignored.txt` in das Repository und commiten Sie sie."
   ]
  },
  {
   "cell_type": "code",
   "execution_count": null,
   "id": "e9ea1105",
   "metadata": {},
   "outputs": [],
   "source": [
    "git init\n",
    "git add mergesort.python\n",
    "git add to_be_ignored.txt\n",
    "git commit -m \"New Repository with two files\""
   ]
  },
  {
   "attachments": {},
   "cell_type": "markdown",
   "id": "23b63840-7c4d-40cd-9fe2-c51a869fc0ec",
   "metadata": {},
   "source": [
    "#### b) [5%]\n",
    "- Erstellen Sie eine `.gitignore` Datei (siehe [hier](https://github.com/github/gitignore) für Beispiele von nützlichen gitignore Vorlagen). \n",
    "- Fügen Sie `to_be_ignored.txt` zur `.gitignore` hinzu und entfernen Sie sie aus der Git-Historie."
   ]
  },
  {
   "cell_type": "code",
   "execution_count": null,
   "id": "62f99fbe",
   "metadata": {},
   "outputs": [],
   "source": [
    "echo \"to_be_ignored.txt\" > .gitignore\n",
    "git filter-branch --tree-filter 'rm -f ./to_be_ignored.txt' HEAD"
   ]
  },
  {
   "attachments": {},
   "cell_type": "markdown",
   "id": "ab7a9d11-89eb-4716-8571-34766d4c976f",
   "metadata": {},
   "source": [
    "#### c) [15%]\n",
    "- Erstellen Sie einen neuen Branch\n",
    "- Bereinigen Sie die Datei `mergesort.py`, um die Regeln für sauberen Code zu befolgen, die wir in der Vorlesung aufgestellt haben. \n",
    "- Versuchen Sie auch, den Code zu verstehen (siehe z.B. [hier](https://www.happycoders.eu/de/algorithmen/mergesort/) für eine Erklärung des Algorithmus) und dokumentieren Sie den Code.\n",
    "- Seine Funktionalität sollte sich nicht ändern!\n",
    "- Es sollte mindestens 7 Punkte geben, die zu verbessern sind.\n",
    "- Commiten Sie Ihre Änderungen. "
   ]
  },
  {
   "cell_type": "code",
   "execution_count": null,
   "id": "75e295c5",
   "metadata": {},
   "outputs": [],
   "source": [
    "git branch aufgabe_1c\n"
   ]
  },
  {
   "attachments": {},
   "cell_type": "markdown",
   "id": "1c131abc-c1b0-4b97-ac37-04abad5f5e99",
   "metadata": {},
   "source": [
    "#### d) [5%]\n",
    "- Erstellen Sie ein neues Repository auf GitHub (machen Sie es public). \n",
    "- Richten Sie eine ssh-Verifizierung für Ihr GitHub-Konto ein. \n",
    "- Fügen Sie die ssh-Adresse Ihres Repositorys als neues remote Repository zu Ihrem lokalen Repository hinzu.  "
   ]
  },
  {
   "cell_type": "code",
   "execution_count": null,
   "id": "be3b9797",
   "metadata": {},
   "outputs": [],
   "source": []
  },
  {
   "attachments": {},
   "cell_type": "markdown",
   "id": "5a03706d-c986-48c9-9207-2ff59770b7f4",
   "metadata": {},
   "source": [
    "#### e) [2.5%]\n",
    "- Wechseln Sie zurück zum `main` Branch.\n",
    "- Pushen Sie in Ihr remote Repository"
   ]
  },
  {
   "cell_type": "code",
   "execution_count": null,
   "id": "fe7c6a6e",
   "metadata": {},
   "outputs": [],
   "source": [
    "%%bash\n",
    "git checkout main\n",
    "git pull\n",
    "git push"
   ]
  },
  {
   "attachments": {},
   "cell_type": "markdown",
   "id": "6d91483e-0a00-4fba-958d-fea707fd47e2",
   "metadata": {},
   "source": [
    "#### f) [5%]\n",
    "- Ändern Sie den Plotting-Teil von `mergesort.py` so, dass er die in der Vorlesung festgelegten Standards widerspiegelt. (Versuchen Sie auch zu überlegen, was die beste Art Plot für diese Daten sein könnte.)\n",
    "- Commiten Sie es und pushen Sie es in das remote Repository."
   ]
  },
  {
   "cell_type": "code",
   "execution_count": null,
   "id": "f848a061",
   "metadata": {},
   "outputs": [],
   "source": []
  },
  {
   "attachments": {},
   "cell_type": "markdown",
   "id": "3f4d7088-60b8-41b5-9806-114839f8e8cb",
   "metadata": {},
   "source": [
    "#### g) [2.5%]\n",
    " - Wechseln Sie zurück zum vorherigen Branch. \n",
    " - Erstellen Sie einen Fork des remote Repositorys auf GitHub. **Dies muss durch einen anderen Benutzer geschehen, falls das original Repository nicht zu einer Organisation gehört!**  \n",
    " - Fügen Sie den Fork als weiteres remote Repository zu Ihrem lokalen Repository hinzu. \n",
    " - Pushen Sie Ihren lokalen Branch in den Fork und erstellen Sie einen Pull-Request auf GitHub."
   ]
  },
  {
   "cell_type": "code",
   "execution_count": null,
   "id": "36d55c11",
   "metadata": {},
   "outputs": [],
   "source": [
    "%%bash\n"
   ]
  },
  {
   "attachments": {},
   "cell_type": "markdown",
   "id": "6d9dbf98-3ea2-4b7f-8b8b-eb4526784c28",
   "metadata": {},
   "source": [
    "#### h) [10%]\n",
    "- Der Pull-Request sollte anzeigen, dass es Konflikte gibt. \n",
    "- Mergen Sie den `main`-Branch (lokal auf Ihrem Computer) in Ihren Feature-Branch ein (nicht umgekehrt!) und lösen Sie die Konflikte.\n",
    "- Pushen Sie Ihren Feature-Branch wieder in Ihren Fork und mergen Sie den Pull-Request."
   ]
  },
  {
   "cell_type": "code",
   "execution_count": null,
   "id": "2248a9a7",
   "metadata": {},
   "outputs": [],
   "source": [
    "%%bash\n"
   ]
  },
  {
   "attachments": {},
   "cell_type": "markdown",
   "id": "8f690324-815f-4e2e-807b-3e6f87f483dd",
   "metadata": {},
   "source": [
    "#### i) [2.5%]\n",
    "- Wechseln Sie zurück zum \"main\"-Branch und pullen Sie aus dem remote Repository.\n",
    "- Löschen Sie den lokalen Feature-Branch (er ist ja bereits im main Branch)."
   ]
  },
  {
   "cell_type": "code",
   "execution_count": null,
   "id": "677abe5f",
   "metadata": {},
   "outputs": [],
   "source": [
    "%%bash\n",
    "git checkout main\n",
    "git pull origin main\n",
    "git branch -d feature-branch\n",
    "# -d = delete"
   ]
  },
  {
   "attachments": {},
   "cell_type": "markdown",
   "id": "d44e4b00-95cf-4be3-8b46-90d53bfad0aa",
   "metadata": {},
   "source": [
    "Zeigen Sie ihre Git-Historie an:"
   ]
  },
  {
   "cell_type": "code",
   "execution_count": 13,
   "id": "b4db096d-eeaf-442e-8620-6b76bb4f33eb",
   "metadata": {},
   "outputs": [
    {
     "name": "stdout",
     "output_type": "stream",
     "text": [
      "commit 40e214077c118e0de0d3eee4093464d16f2ba6f9\n",
      "Author: Hermann Josef Hüffer <h.hueffer@stud.uni-goettingen.de>\n",
      "Date:   Thu Jun 8 14:50:39 2023 +0000\n",
      "\n",
      "    Hausaufgabe05\n",
      "\n",
      "commit 2bae11d4c3bf30095c71ee81073ace987e238cfa\n",
      "Author: LukasLow <code@email.lowsky.eu>\n",
      "Date:   Sat Jun 3 21:36:57 2023 +0000\n",
      "\n",
      "    Abgabe\n",
      "\n",
      "commit 6e57d22ec4508b25b4b9fcaf1533fab23d0b52e2\n",
      "Author: LukasLow <code@email.lowsky.eu>\n",
      "Date:   Sat Jun 3 21:30:25 2023 +0000\n",
      "\n",
      "    -prints & <Axes:>\n",
      "\n",
      "commit b4596da56eae98194a1dfc21a7bda69e859fbd42\n",
      "Author: LukasLow <code@email.lowsky.eu>\n",
      "Date:   Sat Jun 3 21:22:40 2023 +0000\n",
      "\n",
      "    1.7 Clean Code\n",
      "\n",
      "commit 8dfd81f7ca7b2f9bbdfd3087f9d3a5e484b5d017\n",
      "Author: LukasLow <code@email.lowsky.eu>\n",
      "Date:   Sat Jun 3 21:20:14 2023 +0000\n",
      "\n",
      "    Aufräumen und 1.6 Neu gemacht\n",
      "\n",
      "commit 560d63d48391ff3de16bc368f778634e03be721a\n",
      "Author: Hermann Josef Hüffer <h.hueffer@stud.uni-goettingen.de>\n",
      "Date:   Sat Jun 3 18:47:39 2023 +0000\n",
      "\n",
      "    Aufgabe 3.2 f) /Wir sind ganz fertig!!!\n",
      "\n",
      "commit a5c7f1621118cad574bb25812abea3ea0d1af0bd\n",
      "Author: Hermann Josef Hüffer <h.hueffer@stud.uni-goettingen.de>\n",
      "Date:   Sat Jun 3 17:44:38 2023 +0000\n",
      "\n",
      "    Aufgabe 3.2 e)\n",
      "\n",
      "commit 1825407623a867c858e92ce381ea187f1463da61\n",
      "Author: LukasLow <code@email.lowsky.eu>\n",
      "Date:   Thu Jun 1 15:50:41 2023 +0000\n",
      "\n",
      "    3.d) done\n",
      "\n",
      "commit 2910a80a89cc7234a78f4ffcc86376f81a9a8fda\n",
      "Author: Hermann Josef Hüffer <h.hueffer@stud.uni-goettingen.de>\n",
      "Date:   Thu Jun 1 15:47:40 2023 +0000\n",
      "\n",
      "    fast durch\n",
      "\n",
      "commit 518a3848aadaf7a526a8c59fe39eb4c25bd1faf5\n",
      "Author: Hermann Josef Hüffer <h.hueffer@stud.uni-goettingen.de>\n",
      "Date:   Thu Jun 1 15:42:35 2023 +0000\n",
      "\n",
      "    3 d\n",
      "\n",
      "commit ce5ffdebffa8178cf798ebfb1996d305a76fc78a\n",
      "Author: Hermann Josef Hüffer <h.hueffer@stud.uni-goettingen.de>\n",
      "Date:   Thu Jun 1 15:17:36 2023 +0000\n",
      "\n",
      "    weiter\n",
      "\n",
      "commit 432d4044553181151e80c739a516916d1e65c012\n",
      "Author: Hermann Josef Hüffer <h.hueffer@stud.uni-goettingen.de>\n",
      "Date:   Thu Jun 1 14:36:29 2023 +0000\n",
      "\n",
      "    hurra\n",
      "\n",
      "commit f5beb9d0080d171029cecb470ea69f1a8f8e46fd\n",
      "Author: Hermann Josef Hüffer <h.hueffer@stud.uni-goettingen.de>\n",
      "Date:   Tue May 30 14:08:55 2023 +0000\n",
      "\n",
      "    Aufgabe 3b\n",
      "\n",
      "commit ab1e0aa609dfe4c382164401a3dc9e4bc28a69d5\n",
      "Author: LukasLow <code@email.lowsky.eu>\n",
      "Date:   Sun May 28 23:10:29 2023 +0000\n",
      "\n",
      "    3.2a)\n",
      "\n",
      "commit 615bd255e3957f73c4289555b3600fec905bab14\n",
      "Author: LukasLow <code@email.lowsky.eu>\n",
      "Date:   Sun May 28 22:09:30 2023 +0000\n",
      "\n",
      "    2.d)\n",
      "\n",
      "commit 853962f30d9450ff444e54583b3ebaf97edc550c\n",
      "Author: LukasLow <code@email.lowsky.eu>\n",
      "Date:   Sun May 28 20:58:15 2023 +0000\n",
      "\n",
      "    titanic ist die csv in 2\n",
      "\n",
      "commit 88971852ee96ce58581a8c3b724647152099ee31\n",
      "Author: LukasLow <code@email.lowsky.eu>\n",
      "Date:   Sun May 28 20:50:03 2023 +0000\n",
      "\n",
      "    2.b)\n",
      "\n",
      "commit 2ac9ec0a0c5af9c819e8bf4f47d93609cd4d3f41\n",
      "Author: Hermann Josef Hüffer <h.hueffer@stud.uni-goettingen.de>\n",
      "Date:   Sat May 27 00:08:30 2023 +0000\n",
      "\n",
      "    Aufgabe 1 fertig, Aufgabe 2 a) angefangen\n",
      "\n",
      "commit 84158d44de5263bfd45509dbed7924dd544b6481\n",
      "Author: Hermann Josef Hüffer <h.hueffer@stud.uni-goettingen.de>\n",
      "Date:   Thu May 25 17:09:12 2023 +0000\n",
      "\n",
      "    pandas!!\n",
      "\n",
      "commit 28e42941039a2c9100f5004ce0f93636a3a08b2d\n",
      "Author: Hermann Josef Hüffer <h.hueffer@stud.uni-goettingen.de>\n",
      "Date:   Thu May 25 17:48:28 2023 +0200\n",
      "\n",
      "    1.1.2\n",
      "\n",
      "commit 98a3a259d7f14caab5e942b79410bf618f91ec84\n",
      "Merge: ad5d3aa 209a374\n",
      "Author: Hermann Josef Hüffer <h.hueffer@stud.uni-goettingen.de>\n",
      "Date:   Thu May 25 17:45:29 2023 +0200\n",
      "\n",
      "    Merge branch 'main' of https://github.com/LukasLow/UniKurs_DataScience1\n",
      "\n",
      "commit ad5d3aa8c1c4df223636046276f58116e7eaca6b\n",
      "Author: Hermann Josef Hüffer <h.hueffer@stud.uni-goettingen.de>\n",
      "Date:   Thu May 25 17:39:42 2023 +0200\n",
      "\n",
      "    1.1.1\n",
      "\n",
      "commit 209a3740a4de0d80478e3a7e2578c6e818749aeb\n",
      "Author: LukasLow <code@email.lowsky.eu>\n",
      "Date:   Thu May 25 17:38:37 2023 +0200\n",
      "\n",
      "    1.1\n",
      "\n",
      "commit 63841d1269261404e6c469663109d447c211c24a\n",
      "Author: Hermann Josef Hüffer <h.hueffer@stud.uni-goettingen.de>\n",
      "Date:   Thu May 25 17:34:44 2023 +0200\n",
      "\n",
      "    irgendwas\n",
      "\n",
      "commit 07f1f0a59605746ca13d876a0005cf62e0c7e3d9\n",
      "Merge: ef3d781 9a13fab\n",
      "Author: Hermann Josef Hüffer <h.hueffer@stud.uni-goettingen.de>\n",
      "Date:   Thu May 25 17:33:45 2023 +0200\n",
      "\n",
      "    Merge branch 'main' of https://github.com/LukasLow/UniKurs_DataScience1\n",
      "\n",
      "commit ef3d781839f3059d455ff78a597eac1cdeb61cef\n",
      "Author: Hermann Josef Hüffer <h.hueffer@stud.uni-goettingen.de>\n",
      "Date:   Thu May 25 17:33:12 2023 +0200\n",
      "\n",
      "    Hausaufgabe04\n",
      "\n",
      "commit 9a13fab88eaf8e50c148a84f1e03be556d2a8cca\n",
      "Author: Hermann Josef Hüffer <h.hueffer@stud.uni-goettingen.de>\n",
      "Date:   Thu May 11 18:29:49 2023 +0200\n",
      "\n",
      "    1 c) Kommentare\n",
      "\n",
      "commit af4408cae3a4fee11d07081a065533b5784d79ab\n",
      "Author: Hermann Josef Hüffer <h.hueffer@stud.uni-goettingen.de>\n",
      "Date:   Thu May 11 18:19:07 2023 +0200\n",
      "\n",
      "    1 c) fertig\n",
      "\n",
      "commit c54dec60b147476673f199d849a2cc64408dab4a\n",
      "Author: Hermann Josef Hüffer <h.hueffer@stud.uni-goettingen.de>\n",
      "Date:   Thu May 11 18:18:38 2023 +0200\n",
      "\n",
      "    1 c) fertig\n",
      "\n",
      "commit 1770fbabb67bbedf3bf908fc384e018a4f42ef8d\n",
      "Author: LukasLow <code@email.lowsky.eu>\n",
      "Date:   Thu May 11 18:12:24 2023 +0200\n",
      "\n",
      "    add comments\n",
      "\n",
      "commit 701a07e59095290530ae1c5273d90cae7d9b7bda\n",
      "Merge: aec5193 368be20\n",
      "Author: Hermann Josef Hüffer <h.hueffer@stud.uni-goettingen.de>\n",
      "Date:   Thu May 11 18:11:50 2023 +0200\n",
      "\n",
      "    Merge remote-tracking branch 'origin/main'\n",
      "\n",
      "commit aec5193b40021181555907bb4b3b9830fb856e60\n",
      "Author: Hermann Josef Hüffer <h.hueffer@stud.uni-goettingen.de>\n",
      "Date:   Thu May 11 18:11:38 2023 +0200\n",
      "\n",
      "    1 c) Beginn\n",
      "\n",
      "commit 368be20ba8bf505b3e87aeb21627f0c4aa97114d\n",
      "Author: knaya <n.knyrim@stud.uni-goettingen.de>\n",
      "Date:   Thu May 11 18:06:55 2023 +0200\n",
      "\n",
      "    file gelöscht\n",
      "\n",
      "commit 0fb82ca6057dbbbe0a1ef209ab18582f60b26f3b\n",
      "Merge: a7a0fa1 6b01162\n",
      "Author: knaya <n.knyrim@stud.uni-goettingen.de>\n",
      "Date:   Thu May 11 18:03:30 2023 +0200\n",
      "\n",
      "    Merge branch 'main' of https://github.com/LukasLow/UniKurs_DataScience1\n",
      "\n",
      "commit 6b01162a7206bd513e4201f31669eefd6b5cf2cf\n",
      "Author: LukasLow <code@email.lowsky.eu>\n",
      "Date:   Thu May 11 17:58:50 2023 +0200\n",
      "\n",
      "    test\n",
      "\n",
      "commit 92bec1e1e7351c35a8b6d35cade4ee066c2ddeb9\n",
      "Author: Hermann Josef Hüffer <h.hueffer@stud.uni-goettingen.de>\n",
      "Date:   Thu May 11 17:58:15 2023 +0200\n",
      "\n",
      "    Beispieltextdatei\n",
      "\n",
      "commit a7a0fa19d799ed2ebc25f6966cc2016ef53871cd\n",
      "Author: knaya <n.knyrim@stud.uni-goettingen.de>\n",
      "Date:   Thu May 11 17:54:36 2023 +0200\n",
      "\n",
      "    neue file\n",
      "\n",
      "commit ca90fd64e5c293e89f3cde1e6e54177e6b65e5f2\n",
      "Author: Hermann Josef Hüffer <h.hueffer@stud.uni-goettingen.de>\n",
      "Date:   Thu May 11 17:54:25 2023 +0200\n",
      "\n",
      "    Aufgabe 1 a) und b)\n",
      "\n",
      "commit 7b31fe137b39297332940bd4c720fa1c7031cd67\n",
      "Author: LukasLow <code@email.lowsky.eu>\n",
      "Date:   Mon May 8 22:34:00 2023 +0200\n",
      "\n",
      "    neue Hausaufgabe\n",
      "\n",
      "commit e5f7154115e64d7e38f6244ddf2a76c125a50e5b\n",
      "Author: LukasLow <code@email.lowsky.eu>\n",
      "Date:   Mon May 8 10:01:40 2023 +0200\n",
      "\n",
      "    abgabe\n",
      "\n",
      "commit 4b9c46922fa6b1426681d4c8ecab07514ab22aa5\n",
      "Author: LukasLow <code@email.lowsky.eu>\n",
      "Date:   Mon May 8 09:56:40 2023 +0200\n",
      "\n",
      "    abgabe\n",
      "\n",
      "commit 22ebb9e6ec70d53343480a22e1071ba8015afbc6\n",
      "Author: Lukas Lowsky <zoll.radium-0b@icloud.com>\n",
      "Date:   Mon May 8 01:04:52 2023 +0200\n",
      "\n",
      "    Add files via upload\n",
      "\n",
      "commit b305c81445d86dcf952df32b89c2e6d00cd862ce\n",
      "Author: Nayan <118897561+xNayanK@users.noreply.github.com>\n",
      "Date:   Sun May 7 22:14:13 2023 +0200\n",
      "\n",
      "    Create 1c.sh\n",
      "\n",
      "commit d99cee677d5caff1bfc4f45cf8f9ba34adc16836\n",
      "Author: LukasLow <code@email.lowsky.eu>\n",
      "Date:   Fri May 5 14:40:32 2023 +0200\n",
      "\n",
      "    update\n",
      "\n",
      "commit 52ee2e3c5365fd6f45a94790b5eeed5843d9b039\n",
      "Author: LukasLow <code@email.lowsky.eu>\n",
      "Date:   Thu May 4 19:36:49 2023 +0200\n",
      "\n",
      "    save\n",
      "\n",
      "commit 9d5ea6033201cfb9d8961787fbac7e3945d52552\n",
      "Author: LukasLow <code@email.lowsky.eu>\n",
      "Date:   Thu May 4 17:55:36 2023 +0200\n",
      "\n",
      "    save\n",
      "\n",
      "commit 967562895b70457393d344bcb994efa4015c58c3\n",
      "Author: LukasLow <code@email.lowsky.eu>\n",
      "Date:   Thu May 4 16:20:36 2023 +0200\n",
      "\n",
      "    update\n",
      "\n",
      "commit 84d11cde54034a63fa059a74a94904064151952c\n",
      "Author: LukasLow <code@email.lowsky.eu>\n",
      "Date:   Sat Apr 29 12:28:54 2023 +0200\n",
      "\n",
      "    1a\n",
      "\n",
      "commit 55fb089630c7792ad675e18b9a350441e1152b14\n",
      "Author: LukasLow <code@email.lowsky.eu>\n",
      "Date:   Sat Apr 29 10:20:34 2023 +0200\n",
      "\n",
      "    Hausaufgabe02\n",
      "\n",
      "commit e48f2e1d50b4f4e15d3c3021acdf7d200ac54dcc\n",
      "Author: LukasLow <code@email.lowsky.eu>\n",
      "Date:   Mon Apr 24 09:20:47 2023 +0200\n",
      "\n",
      "    update\n",
      "\n",
      "commit 71b8361d08892daf77a99a8cc35c5bb5523aae5b\n",
      "Author: LukasLow <code@email.lowsky.eu>\n",
      "Date:   Sun Apr 23 20:07:57 2023 +0200\n",
      "\n",
      "    first upload\n"
     ]
    }
   ],
   "source": [
    "%%bash\n",
    "git log"
   ]
  },
  {
   "attachments": {},
   "cell_type": "markdown",
   "id": "2932b317-11a9-4cfd-9757-519c0cd4a396",
   "metadata": {},
   "source": [
    "## Exercise 2"
   ]
  },
  {
   "attachments": {},
   "cell_type": "markdown",
   "id": "39e88314-ea52-4e2a-a106-41e006e64b29",
   "metadata": {},
   "source": [
    "Betrachten Sie die folgende Aufgabe:\n",
    "\n",
    "Gegeben eine Array von Intergern in dem alle Elemente außer eins genau zweimal vorkommen, finden Sie das einzelne Element.\n",
    "\n",
    "Beispiel: `[1,2,3,4,3,1,2]`\n",
    "\n",
    "Das einzelne Element ist: `4`\n",
    "\n",
    "Sie können annehmen dass das Array ungerade Länge hat und es nur eine Element gibt dass nur genau einmal vorkommt.\n",
    "\n",
    "Hinweis: Die folgenden Aufgaben müssen nicht notwendigerweise in Reihenfolge bearbeitet werden.\n"
   ]
  },
  {
   "attachments": {},
   "cell_type": "markdown",
   "id": "1be8bfc4-a31b-49ee-8ceb-f8c8daa863de",
   "metadata": {},
   "source": [
    "#### a) [15%] Schreiben Sie test-Fälle für die oben beschrieben Aufgabe. \n",
    "(Mind. 5 Testfälle nötig!) \n",
    "Denken Sie an mögliche Randfälle und ungültige Eingaben.\n",
    "\n",
    "**Benutzen sie `pytest` und schreiben Sie die Tests in separate Dateien.**"
   ]
  },
  {
   "cell_type": "code",
   "execution_count": 10,
   "id": "b5de83f0",
   "metadata": {},
   "outputs": [
    {
     "name": "stdout",
     "output_type": "stream",
     "text": [
      "import matplotlib.pyplot as plt\n",
      "import pytest\n",
      "\n",
      "from merge_sort import mergeSort, ASSIGNMENT\n",
      "\n",
      "\n",
      "def test_mergeSort():\n",
      "    my_list = [54, 26, 93, 17, 77, 31, 44, 55, 20]\n",
      "    expected_sorted_list = [17, 20, 26, 31, 44, 54, 55, 77, 93]\n",
      "\n",
      "    mergeSort(my_list)\n",
      "    assert my_list == expected_sorted_list\n",
      "\n",
      "    # Test with an empty list\n",
      "    empty_list = []\n",
      "    mergeSort(empty_list)\n",
      "    assert empty_list == []\n",
      "\n",
      "    # Test with a list of one element\n",
      "    single_element_list = [42]\n",
      "    mergeSort(single_element_list)\n",
      "    assert single_element_list == [42]\n",
      "\n",
      "\n",
      "if __name__ == \"__main__\":\n",
      "    pytest.main()\n"
     ]
    }
   ],
   "source": [
    "%%bash\n",
    "cat \"mergesort_test.py\""
   ]
  },
  {
   "attachments": {},
   "cell_type": "markdown",
   "id": "1a6141b7-2f71-4ff2-8dfe-55e837ee512e",
   "metadata": {},
   "source": [
    "#### b) [10%] Basierend auf den test-Fällen, schreiben Sie eine Methode welche den Task erfolgreich (und effizient) löst."
   ]
  },
  {
   "attachments": {},
   "cell_type": "markdown",
   "id": "fe34d47b-87c5-4b09-9971-afa77a183380",
   "metadata": {},
   "source": [
    "Die Methode soll ebenfalls in eine separate Datei geschrieben werden."
   ]
  },
  {
   "cell_type": "code",
   "execution_count": 11,
   "id": "df67c317",
   "metadata": {},
   "outputs": [
    {
     "name": "stdout",
     "output_type": "stream",
     "text": [
      "def mergeSort(list_to_sort_by_merge):\n",
      "    if len(list_to_sort_by_merge) <= 1:\n",
      "        return list_to_sort_by_merge\n",
      "\n",
      "    mid = len(list_to_sort_by_merge) // 2\n",
      "    left = list_to_sort_by_merge[:mid]\n",
      "    right = list_to_sort_by_merge[mid:]\n",
      "\n",
      "    left = mergeSort(left)\n",
      "    right = mergeSort(right)\n",
      "\n",
      "    return merge(left, right)\n",
      "\n",
      "\n",
      "def merge(left, right):\n",
      "    merged = []\n",
      "    i = j = 0\n",
      "\n",
      "    while i < len(left) and j < len(right):\n",
      "        if left[i] <= right[j]:\n",
      "            merged.append(left[i])\n",
      "            i += 1\n",
      "        else:\n",
      "            merged.append(right[j])\n",
      "            j += 1\n",
      "\n",
      "    # Append remaining elements\n",
      "    merged.extend(left[i:])\n",
      "    merged.extend(right[j:])\n",
      "\n",
      "    return merged\n"
     ]
    }
   ],
   "source": [
    "%%bash\n",
    "cat \"mergesort_2b.py\""
   ]
  },
  {
   "attachments": {},
   "cell_type": "markdown",
   "id": "4af37373-85a5-4e27-96a9-0c093f56a2c8",
   "metadata": {},
   "source": [
    "#### c) [10%] Schreiben Sie ein Docker-File welches `numpy`, `pandas`, `matplotlib` und `seaborn` installiert. "
   ]
  },
  {
   "cell_type": "code",
   "execution_count": 8,
   "id": "6922393a",
   "metadata": {},
   "outputs": [
    {
     "name": "stdout",
     "output_type": "stream",
     "text": [
      "## Dockerfile\n",
      "\n",
      "# Start from a base Python 3.9 image\n",
      "FROM python:3.9\n",
      "\n",
      "# Set the working directory to /\n",
      "WORKDIR /app\n",
      "\n",
      "# Copy the requirements.txt file and install Python dependencies\n",
      "COPY requirements.txt requirements.txt\n",
      "RUN pip install numpy pandas matplotlib seaborn\n",
      "RUN pip install -r requirements.txt\n",
      "\n",
      "# Copy the rest of the project\n",
      "COPY . .\n",
      "\n",
      "# Set the host and port using environment variables\n",
      "ENV PORT=8080\n",
      "\n",
      "# Expose the port\n",
      "EXPOSE $PORT\n",
      "\n",
      "#DEBUG\n",
      "RUN pwd\n",
      "RUN find / -name \"*\" | grep -vE \"^/(var|usr|sbin|etc|sys|proc|lib|root)\"\n",
      " \n",
      "# Run the application\n",
      "CMD [\"python\", \"mergesort.py\"]\n"
     ]
    }
   ],
   "source": [
    "%%bash\n",
    "cat \"DOCKERFILE\""
   ]
  },
  {
   "attachments": {},
   "cell_type": "markdown",
   "id": "4101f101-6a16-4308-add4-f4dc94ec8a9c",
   "metadata": {},
   "source": [
    "#### d) [15%] Schreiben Sie eine Docker-compose Datei, welche zwei verschiedene services anbietet:\n",
    "\n",
    "1. Alle Tests durchlaufen lassen\n",
    "2. Die Methode für einen gegebenen Input laufen lassen.\n",
    "\n",
    "Stellen Sie auch sicher dass der Container das Verzeichnis mit Ihren Skripten mountet, sodass Sie zugriff auf die aktuelle Version Ihres Codes haben.\n",
    "\n",
    "Demonstrieren Sie in einem Test auch dass die angegebenen Libraries aus c) erfolgreich installiert sind."
   ]
  },
  {
   "cell_type": "code",
   "execution_count": 9,
   "id": "feb8fb48-b980-4e0f-8c16-1373e375c63b",
   "metadata": {},
   "outputs": [
    {
     "name": "stdout",
     "output_type": "stream",
     "text": [
      "version: \"3\"\n",
      "services:\n",
      "  run-tests:\n",
      "    build:\n",
      "      context: .\n",
      "    volumes:\n",
      "      - .:/app\n",
      "    command: pytest\n",
      "\n",
      "  run-method:\n",
      "    build:\n",
      "      context: .\n",
      "    volumes:\n",
      "      - .:/app\n",
      "    command: python main.py\n"
     ]
    },
    {
     "name": "stderr",
     "output_type": "stream",
     "text": [
      "bash: line 3: docker-compose: command not found\n",
      "bash: line 5: docker-compose: command not found\n"
     ]
    },
    {
     "ename": "CalledProcessError",
     "evalue": "Command 'b'cat \"dockercompose.yml\"\\n\\ndocker-compose run run-tests\\n\\ndocker-compose run run-method\\n'' returned non-zero exit status 127.",
     "output_type": "error",
     "traceback": [
      "\u001b[0;31m---------------------------------------------------------------------------\u001b[0m",
      "\u001b[0;31mCalledProcessError\u001b[0m                        Traceback (most recent call last)",
      "Cell \u001b[0;32mIn[9], line 1\u001b[0m\n\u001b[0;32m----> 1\u001b[0m get_ipython()\u001b[39m.\u001b[39;49mrun_cell_magic(\u001b[39m'\u001b[39;49m\u001b[39mbash\u001b[39;49m\u001b[39m'\u001b[39;49m, \u001b[39m'\u001b[39;49m\u001b[39m'\u001b[39;49m, \u001b[39m'\u001b[39;49m\u001b[39mcat \u001b[39;49m\u001b[39m\"\u001b[39;49m\u001b[39mdockercompose.yml\u001b[39;49m\u001b[39m\"\u001b[39;49m\u001b[39m\\n\u001b[39;49;00m\u001b[39m\\n\u001b[39;49;00m\u001b[39mdocker-compose run run-tests\u001b[39;49m\u001b[39m\\n\u001b[39;49;00m\u001b[39m\\n\u001b[39;49;00m\u001b[39mdocker-compose run run-method\u001b[39;49m\u001b[39m\\n\u001b[39;49;00m\u001b[39m'\u001b[39;49m)\n",
      "File \u001b[0;32m~/.local/lib/python3.11/site-packages/IPython/core/interactiveshell.py:2478\u001b[0m, in \u001b[0;36mInteractiveShell.run_cell_magic\u001b[0;34m(self, magic_name, line, cell)\u001b[0m\n\u001b[1;32m   2476\u001b[0m \u001b[39mwith\u001b[39;00m \u001b[39mself\u001b[39m\u001b[39m.\u001b[39mbuiltin_trap:\n\u001b[1;32m   2477\u001b[0m     args \u001b[39m=\u001b[39m (magic_arg_s, cell)\n\u001b[0;32m-> 2478\u001b[0m     result \u001b[39m=\u001b[39m fn(\u001b[39m*\u001b[39;49margs, \u001b[39m*\u001b[39;49m\u001b[39m*\u001b[39;49mkwargs)\n\u001b[1;32m   2480\u001b[0m \u001b[39m# The code below prevents the output from being displayed\u001b[39;00m\n\u001b[1;32m   2481\u001b[0m \u001b[39m# when using magics with decodator @output_can_be_silenced\u001b[39;00m\n\u001b[1;32m   2482\u001b[0m \u001b[39m# when the last Python token in the expression is a ';'.\u001b[39;00m\n\u001b[1;32m   2483\u001b[0m \u001b[39mif\u001b[39;00m \u001b[39mgetattr\u001b[39m(fn, magic\u001b[39m.\u001b[39mMAGIC_OUTPUT_CAN_BE_SILENCED, \u001b[39mFalse\u001b[39;00m):\n",
      "File \u001b[0;32m~/.local/lib/python3.11/site-packages/IPython/core/magics/script.py:154\u001b[0m, in \u001b[0;36mScriptMagics._make_script_magic.<locals>.named_script_magic\u001b[0;34m(line, cell)\u001b[0m\n\u001b[1;32m    152\u001b[0m \u001b[39melse\u001b[39;00m:\n\u001b[1;32m    153\u001b[0m     line \u001b[39m=\u001b[39m script\n\u001b[0;32m--> 154\u001b[0m \u001b[39mreturn\u001b[39;00m \u001b[39mself\u001b[39;49m\u001b[39m.\u001b[39;49mshebang(line, cell)\n",
      "File \u001b[0;32m~/.local/lib/python3.11/site-packages/IPython/core/magics/script.py:314\u001b[0m, in \u001b[0;36mScriptMagics.shebang\u001b[0;34m(self, line, cell)\u001b[0m\n\u001b[1;32m    309\u001b[0m \u001b[39mif\u001b[39;00m args\u001b[39m.\u001b[39mraise_error \u001b[39mand\u001b[39;00m p\u001b[39m.\u001b[39mreturncode \u001b[39m!=\u001b[39m \u001b[39m0\u001b[39m:\n\u001b[1;32m    310\u001b[0m     \u001b[39m# If we get here and p.returncode is still None, we must have\u001b[39;00m\n\u001b[1;32m    311\u001b[0m     \u001b[39m# killed it but not yet seen its return code. We don't wait for it,\u001b[39;00m\n\u001b[1;32m    312\u001b[0m     \u001b[39m# in case it's stuck in uninterruptible sleep. -9 = SIGKILL\u001b[39;00m\n\u001b[1;32m    313\u001b[0m     rc \u001b[39m=\u001b[39m p\u001b[39m.\u001b[39mreturncode \u001b[39mor\u001b[39;00m \u001b[39m-\u001b[39m\u001b[39m9\u001b[39m\n\u001b[0;32m--> 314\u001b[0m     \u001b[39mraise\u001b[39;00m CalledProcessError(rc, cell)\n",
      "\u001b[0;31mCalledProcessError\u001b[0m: Command 'b'cat \"dockercompose.yml\"\\n\\ndocker-compose run run-tests\\n\\ndocker-compose run run-method\\n'' returned non-zero exit status 127."
     ]
    }
   ],
   "source": [
    "%%bash\n",
    "cat \"dockercompose.yml\"\n",
    "\n",
    "docker-compose run run-tests\n",
    "\n",
    "docker-compose run run-method\n"
   ]
  }
 ],
 "metadata": {
  "kernelspec": {
   "display_name": "Python 3",
   "language": "python",
   "name": "python3"
  },
  "language_info": {
   "codemirror_mode": {
    "name": "ipython",
    "version": 3
   },
   "file_extension": ".py",
   "mimetype": "text/x-python",
   "name": "python",
   "nbconvert_exporter": "python",
   "pygments_lexer": "ipython3",
   "version": "3.11.3"
  }
 },
 "nbformat": 4,
 "nbformat_minor": 5
}
