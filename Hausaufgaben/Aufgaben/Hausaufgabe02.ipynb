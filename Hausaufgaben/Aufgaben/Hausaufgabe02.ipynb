{
 "cells": [
  {
   "attachments": {},
   "cell_type": "markdown",
   "id": "93cff492-b993-4b0d-a70b-13c52a25a17f",
   "metadata": {},
   "source": [
    "## Hausaufgabe 2 \n",
    "\n",
    "### Abgage via studip bis spätestens 08.05. 12:00 Uhr (zur VL)! \n",
    "### Verteidigung 11.05. 08:00-10:00 Uhr (Timeslots werden vorher bekannt gegeben)!\n",
    "\n",
    "\n",
    "- In jedem Blatt kann maximal 5% Bonus erreicht werden, falls:\n",
    "    - Mind. 60% des Arbeitsblatts korrekt bearbeitet wurde und\n",
    "    - das Arbeitsblatt erfolgreich verteidigt (den Tutoren erklärt) wurde.\n",
    "    - Bonus % = 5% * Teil der Hausaufgabe erfolgreich verteidigt\n",
    "    - Erfolgreiche Verteidigung: Ein von uns ausgewähltes Team-Mitglied erklärt die Lösung und beantwortet Fragen dazu.\n",
    "    - ChatGPT und andere Hilfsmittel dürfen verwendet werden, müssen aber zitiert werden.\n",
    "    - Code muss ohne Hilfsmittel erläutert werden\n",
    "- Wir bewerten nicht nur die Korrektheit der Ergebnisse, sondern auch ob der Code effizient, einfach zu verstehen, aufgeräumt und gut dokumentiert ist.\n",
    "- Geben Sie eine Lösung pro Gruppe ab und packen Sie Ihre Lösung in eine Zip-Datei mit dem Namen und Matrikelnummer eines Mitglieds. Also z.B. `mustermann_12345678.zip` "
   ]
  },
  {
   "cell_type": "markdown",
   "id": "6a89ae56-4d82-4486-ab4d-053c537e614d",
   "metadata": {},
   "source": [
    "\n",
    "Installatieren Sie (falls nicht vorhanden) den bash-kernel durch: `pip install bash_kernel ; python -m bash_kernel.install`"
   ]
  },
  {
   "cell_type": "markdown",
   "id": "88a1ce2f-002b-4808-980f-b820ae4880c7",
   "metadata": {},
   "source": [
    "_________"
   ]
  },
  {
   "cell_type": "markdown",
   "id": "9ff8bfe9-f1a8-474f-8f6c-c9d78269b08e",
   "metadata": {},
   "source": [
    "\n",
    "In dieser Aufgabe ist das Ziel ein durch einzelne kurze Skripts einen Text zu bearbeiten sodass dieser anschließend einfacher zu verwenden ist (z.B. für Data-Science Anwendungen)"
   ]
  },
  {
   "cell_type": "markdown",
   "id": "bdb4b2f2-fa60-40ae-a990-a1bc1fd35ded",
   "metadata": {},
   "source": [
    "Der Text den wir im Folgenden bearbeiten werden ist das Deutsche Grundgesetz. "
   ]
  },
  {
   "attachments": {},
   "cell_type": "markdown",
   "id": "62dd260d-5f9e-4479-b600-148d24122dd3",
   "metadata": {},
   "source": [
    "## 1 a)  [2,5%]"
   ]
  },
  {
   "cell_type": "markdown",
   "id": "a70f8b74-7a10-4887-b598-4976c2d072e8",
   "metadata": {},
   "source": [
    "Erstellen Sie einen neuen Ordner und laden Sie den Text herunter den Sie unter folgender Adresse finden: https://raw.githubusercontent.com/levinalex/deutsche_verfassungen/master/grundgesetz/grundgesetz.txt "
   ]
  },
  {
   "cell_type": "code",
   "execution_count": null,
   "id": "4cf7ec97",
   "metadata": {
    "vscode": {
     "languageId": "shellscript"
    }
   },
   "outputs": [],
   "source": []
  },
  {
   "attachments": {},
   "cell_type": "markdown",
   "id": "c944b26c-796f-4640-ab5b-b1d26e39d41e",
   "metadata": {},
   "source": [
    "## 1 b) [10%]\n",
    "Der Text hat eine klare Struktur. Aber am Anfang findet sich ein Stück Text welches nicht in diese Struktur passt. Schreiben Sie ein einzeiliges Skript welches alles vor dem Start der Auflistung der Artikel (und Kapitel) aus dem Text löscht. Speichern Sie die Ausgabe in einer neuen Datei. \n",
    "Stellen Sie sicher dass Ihr Skript auch funktioniert wenn sich der Text am Start ändert!"
   ]
  },
  {
   "cell_type": "code",
   "execution_count": null,
   "id": "8f496c9f",
   "metadata": {
    "vscode": {
     "languageId": "shellscript"
    }
   },
   "outputs": [],
   "source": []
  },
  {
   "attachments": {},
   "cell_type": "markdown",
   "id": "cea6b9eb-4e7a-4819-84be-5ee6cb9e3ccc",
   "metadata": {},
   "source": [
    "## 1 c) [10%]\n",
    "Splitten Sie den Text in einzelne Dateien auf basierend auf den Kapiteln (z.B. \"I Die Grundrechte\") nummerieren Sie die Dateien."
   ]
  },
  {
   "cell_type": "code",
   "execution_count": null,
   "id": "05fc7d12",
   "metadata": {},
   "outputs": [],
   "source": []
  },
  {
   "attachments": {},
   "cell_type": "markdown",
   "id": "9062180c-82cf-427a-b0a8-7db677df12ac",
   "metadata": {},
   "source": [
    "## 1 d) [30%]\n",
    "Splitten Sie jedes Kapitel in die einzelnen Artikel auf. Jeder Artikel soll in einer eigenen Datei sein welche die Nummer des Artikels als Dateinamen. Erstellen Sie für jedes Kapitel einen neuen Unterordner in dem die Artikel gesammelt werden."
   ]
  },
  {
   "cell_type": "code",
   "execution_count": null,
   "id": "4ae300e4",
   "metadata": {},
   "outputs": [],
   "source": []
  },
  {
   "attachments": {},
   "cell_type": "markdown",
   "id": "a31a8bd9-912e-4b77-894c-74bba797cdfd",
   "metadata": {},
   "source": [
    "## 1 e) [5%]\n",
    "Löschen Sie die ursprünglichen Daten und die Daten welche Sie im Verlauf des Prozesses (abgesehen von 1d)) generiert haben. Am Ende sollen nur noch die Dateien zu den einzelnen Artikel (in getrennten Ordnern) vorhanden sein.  "
   ]
  },
  {
   "cell_type": "code",
   "execution_count": null,
   "id": "371bf163",
   "metadata": {},
   "outputs": [],
   "source": []
  },
  {
   "cell_type": "markdown",
   "id": "07fe1e5b-805e-40ad-b28a-2d26553ba710",
   "metadata": {},
   "source": [
    "## 1 f) [2,5%]\n",
    "Packen Sie den Inhalt des gesamten Ordners in komprimiertes tar-Archiv."
   ]
  },
  {
   "cell_type": "code",
   "execution_count": null,
   "id": "83b3476e",
   "metadata": {},
   "outputs": [],
   "source": []
  },
  {
   "cell_type": "markdown",
   "id": "76f7f642-b851-473a-a90d-5046ede450a2",
   "metadata": {},
   "source": [
    "_________"
   ]
  },
  {
   "attachments": {},
   "cell_type": "markdown",
   "id": "ef3bbe6b-21bd-47a8-9d74-1c13e3453c8d",
   "metadata": {
    "vscode": {
     "languageId": "shellscript"
    }
   },
   "source": [
    "## 2 a) [20%]\n",
    "Schreiben Sie ein Shell-Skript, dass alle x Sekunden ausgibt ob ein durch eine PID identifizierter Prozess läuft oder nicht.\n",
    "Übergeben Sie die Anzahl an Sekunden und die PID als Parameter an das Skript, sodass es wie folgt aufgerufen werden kann:\n",
    "\n",
    "```bash\n",
    "$ script [PID] [SECONDS]\n",
    "```\n",
    "Ihnen sind keine Einschränkungen gegeben, welche Befehle Sie dafür verwenden.\n",
    "\n",
    "**Nützliche Befehle:** `grep`,`ps`"
   ]
  },
  {
   "attachments": {},
   "cell_type": "markdown",
   "id": "623c7c5d-0f24-4e65-acf9-499164214986",
   "metadata": {
    "tags": []
   },
   "source": [
    "## 2 b) [20%]\n",
    "Schreiben Sie ein Shell-Skript, das die Verzeichnisstruktur eines als Parameter angegebenen Verzeichnisses auflisten kann. Schreiben Sie dazu eine rekursive Funktion, die in Unterverzeichnisse herabsteigt. \n",
    "Geben Sie das Verzeichnis und die Dateien auf dem Bildschirm aus. \n",
    "Nutzen Sie Einrückungen um die Zugehörigkeit von Dateien und Verzeichnissen zueinander zu kennzeichnen. \n",
    "Dies kann dann zum Beispiel so aussehen:\n",
    "\n",
    "```\n",
    "File: linux-3.14/COPYING\n",
    "File: linux-3.14/CREDITS\n",
    "Directory: linux-3.14/Documentation\n",
    "    File: linux-3.14/Documentation/00-INDEX \n",
    "    Directory: linux-3.14/Documentation/ABI\n",
    "        File: linux-3.14/Documentation/ABI/README \n",
    "        Directory: linux-3.14/Documentation/ABI/obsolete        \n",
    "            File: linux-3.14/Documentation/ABI/obsolete/proc-sys-vm-nr_pdflush_threads \n",
    "            File: linux-3.14/Documentation/ABI/obsolete/sysfs-bus-usb\n",
    "            File: linux-3.14/Documentation/ABI/obsolete/sysfs-class-rfkill\n",
    "            File: linux-3.14/Documentation/ABI/obsolete/sysfs-driver-hid-roccat-koneplus \n",
    "            File: linux-3.14/Documentation/ABI/obsolete/sysfs-driver-hid-roccat-kovaplus \n",
    "            File: linux-3.14/Documentation/ABI/obsolete/sysfs-driver-hid-roccat-pyra\n",
    "        Directory: linux-3.14/Documentation/ABI/removed \n",
    "            File: linux-3.14/Documentation/ABI/removed/devfs \n",
    "            File: linux-3.14/Documentation/ABI/removed/dv1394\n",
    "...\n",
    "\n",
    "```\n",
    "\n",
    "**Hinweis:** es ist möglich, in der bash Funktionen zu definieren. Die Syntax finden Sie z.B. hier: http://tldp.org/LDP/abs/html/functions.html\n",
    "\n",
    "**Nützliche Befehle:** `find`,`printf`"
   ]
  }
 ],
 "metadata": {
  "kernelspec": {
   "display_name": "Python 3.10.7 64-bit",
   "language": "python",
   "name": "python3"
  },
  "language_info": {
   "codemirror_mode": {
    "name": "ipython",
    "version": 3
   },
   "file_extension": ".py",
   "mimetype": "text/x-python",
   "name": "python",
   "nbconvert_exporter": "python",
   "pygments_lexer": "ipython3",
   "version": "3.7.3"
  },
  "vscode": {
   "interpreter": {
    "hash": "8fa2a39dc98f14384214061e3a8c32603dbb899665817f3de4b9ccce2b523a71"
   }
  }
 },
 "nbformat": 4,
 "nbformat_minor": 5
}
