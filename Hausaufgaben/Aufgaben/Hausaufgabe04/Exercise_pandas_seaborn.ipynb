{
 "cells": [
  {
   "attachments": {},
   "cell_type": "markdown",
   "metadata": {},
   "source": [
    "# Hausaufgabe 4\n",
    "\n",
    "### Abgage via studip bis spätestens 05.06. 12:00 Uhr (zur VL)! \n",
    "### Verteidigung 08.06. 08:00-10:00 Uhr (Timeslots werden vorher bekannt gegeben)!\n",
    "\n",
    "\n",
    "- In jedem Blatt kann maximal 5% Bonus erreicht werden, falls:\n",
    "    - Mind. 60% des Arbeitsblatts korrekt bearbeitet wurde und\n",
    "    - das Arbeitsblatt erfolgreich verteidigt (den Tutoren erklärt) wurde.\n",
    "    - Bonus % = 5% * Teil der Hausaufgabe erfolgreich verteidigt\n",
    "    - Erfolgreiche Verteidigung: Ein von uns ausgewähltes Team-Mitglied erklärt die Lösung und beantwortet Fragen dazu.\n",
    "    - ChatGPT und andere Hilfsmittel dürfen verwendet werden, müssen aber zitiert werden.\n",
    "    - Code muss ohne Hilfsmittel erläutert werden\n",
    "- Wir bewerten nicht nur die Korrektheit der Ergebnisse, sondern auch ob der Code effizient, einfach zu verstehen, aufgeräumt und gut dokumentiert ist."
   ]
  },
  {
   "attachments": {},
   "cell_type": "markdown",
   "metadata": {},
   "source": [
    "```pip install bash_kernel ; python -m bash_kernel.install```"
   ]
  },
  {
   "cell_type": "code",
   "execution_count": 1,
   "metadata": {
    "vscode": {
     "languageId": "shellscript"
    }
   },
   "outputs": [
    {
     "name": "stdout",
     "output_type": "stream",
     "text": [
      "Defaulting to user installation because normal site-packages is not writeable\n",
      "Requirement already satisfied: pandas in /home/vscode/.local/lib/python3.11/site-packages (2.0.1)\n",
      "Requirement already satisfied: requests in /home/vscode/.local/lib/python3.11/site-packages (2.31.0)\n",
      "Requirement already satisfied: matplotlib in /home/vscode/.local/lib/python3.11/site-packages (3.7.1)\n",
      "Requirement already satisfied: seaborn in /home/vscode/.local/lib/python3.11/site-packages (0.12.2)\n",
      "Requirement already satisfied: python-dateutil>=2.8.2 in /home/vscode/.local/lib/python3.11/site-packages (from pandas) (2.8.2)\n",
      "Requirement already satisfied: pytz>=2020.1 in /home/vscode/.local/lib/python3.11/site-packages (from pandas) (2023.3)\n",
      "Requirement already satisfied: tzdata>=2022.1 in /home/vscode/.local/lib/python3.11/site-packages (from pandas) (2023.3)\n",
      "Requirement already satisfied: numpy>=1.21.0 in /home/vscode/.local/lib/python3.11/site-packages (from pandas) (1.24.3)\n",
      "Requirement already satisfied: charset-normalizer<4,>=2 in /home/vscode/.local/lib/python3.11/site-packages (from requests) (3.1.0)\n",
      "Requirement already satisfied: idna<4,>=2.5 in /home/vscode/.local/lib/python3.11/site-packages (from requests) (3.4)\n",
      "Requirement already satisfied: urllib3<3,>=1.21.1 in /home/vscode/.local/lib/python3.11/site-packages (from requests) (2.0.2)\n",
      "Requirement already satisfied: certifi>=2017.4.17 in /home/vscode/.local/lib/python3.11/site-packages (from requests) (2023.5.7)\n",
      "Requirement already satisfied: contourpy>=1.0.1 in /home/vscode/.local/lib/python3.11/site-packages (from matplotlib) (1.0.7)\n",
      "Requirement already satisfied: cycler>=0.10 in /home/vscode/.local/lib/python3.11/site-packages (from matplotlib) (0.11.0)\n",
      "Requirement already satisfied: fonttools>=4.22.0 in /home/vscode/.local/lib/python3.11/site-packages (from matplotlib) (4.39.4)\n",
      "Requirement already satisfied: kiwisolver>=1.0.1 in /home/vscode/.local/lib/python3.11/site-packages (from matplotlib) (1.4.4)\n",
      "Requirement already satisfied: packaging>=20.0 in /home/vscode/.local/lib/python3.11/site-packages (from matplotlib) (23.1)\n",
      "Requirement already satisfied: pillow>=6.2.0 in /home/vscode/.local/lib/python3.11/site-packages (from matplotlib) (9.5.0)\n",
      "Requirement already satisfied: pyparsing>=2.3.1 in /home/vscode/.local/lib/python3.11/site-packages (from matplotlib) (3.0.9)\n",
      "Requirement already satisfied: six>=1.5 in /home/vscode/.local/lib/python3.11/site-packages (from python-dateutil>=2.8.2->pandas) (1.16.0)\n"
     ]
    },
    {
     "name": "stderr",
     "output_type": "stream",
     "text": [
      "\n",
      "[notice] A new release of pip available: 22.3.1 -> 23.1.2\n",
      "[notice] To update, run: pip install --upgrade pip\n"
     ]
    }
   ],
   "source": [
    "%%bash\n",
    "pip3 install pandas requests matplotlib seaborn"
   ]
  },
  {
   "cell_type": "code",
   "execution_count": 25,
   "metadata": {},
   "outputs": [],
   "source": [
    "import pandas as pd\n",
    "import requests\n",
    "import matplotlib.pyplot as plt\n",
    "import io\n",
    "import seaborn as sns\n",
    "import numpy as np"
   ]
  },
  {
   "attachments": {},
   "cell_type": "markdown",
   "metadata": {
    "tags": []
   },
   "source": [
    "## Aufgabe 1: Pandas Basics (14%)"
   ]
  },
  {
   "attachments": {},
   "cell_type": "markdown",
   "metadata": {},
   "source": [
    "#### 1. (2%) Importieren Sie die csv-Datei \"tips\" von https://github.com/mwaskom/seaborn-data."
   ]
  },
  {
   "cell_type": "code",
   "execution_count": 26,
   "metadata": {},
   "outputs": [
    {
     "name": "stdout",
     "output_type": "stream",
     "text": [
      "   total_bill   tip     sex smoker  day    time  size\n",
      "0       16.99  1.01  Female     No  Sun  Dinner     2\n",
      "1       10.34  1.66    Male     No  Sun  Dinner     3\n",
      "2       21.01  3.50    Male     No  Sun  Dinner     3\n",
      "3       23.68  3.31    Male     No  Sun  Dinner     2\n",
      "4       24.59  3.61  Female     No  Sun  Dinner     4\n"
     ]
    }
   ],
   "source": [
    "## Mit Internet\n",
    "#URL_CSV = \"https://raw.githubusercontent.com/mwaskom/seaborn-data/master/tips.csv\"\n",
    "#csv_data = requests.get(URL_CSV).content\n",
    "#df = pd.read_csv(io.StringIO(csv_data.decode('utf-8')))\n",
    "#print(df.head())\n",
    "\n",
    "## Ohne Internet\n",
    "URL_CSV = \"./tips.csv\"\n",
    "df = pd.read_csv(URL_CSV)\n",
    "print(df.head())"
   ]
  },
  {
   "attachments": {},
   "cell_type": "markdown",
   "metadata": {},
   "source": [
    "#### 2. (2%) Wie viele Spalten und Zeilen hat dieser dataframe?"
   ]
  },
  {
   "cell_type": "code",
   "execution_count": 27,
   "metadata": {},
   "outputs": [
    {
     "name": "stdout",
     "output_type": "stream",
     "text": [
      "Anzahl der Zeilen: 244\n",
      "Anzahl der Spalten: 7\n"
     ]
    }
   ],
   "source": [
    "print(f\"Anzahl der Zeilen: {df.shape[0]}\")\n",
    "print(f\"Anzahl der Spalten: {df.shape[1]}\")"
   ]
  },
  {
   "attachments": {},
   "cell_type": "markdown",
   "metadata": {},
   "source": [
    "#### 3. (2%) Was sind die Spalten des dataframe?"
   ]
  },
  {
   "cell_type": "code",
   "execution_count": 30,
   "metadata": {},
   "outputs": [
    {
     "name": "stdout",
     "output_type": "stream",
     "text": [
      "Index(['total_bill', 'tip', 'sex', 'smoker', 'day', 'time', 'size'], dtype='object')\n"
     ]
    }
   ],
   "source": [
    "print(df.columns)"
   ]
  },
  {
   "attachments": {},
   "cell_type": "markdown",
   "metadata": {},
   "source": [
    "#### 4. (2%) Wie viele numerische und nicht-numerische Spalten enthält es?"
   ]
  },
  {
   "cell_type": "code",
   "execution_count": 31,
   "metadata": {},
   "outputs": [
    {
     "name": "stdout",
     "output_type": "stream",
     "text": [
      "Anzahl der numerischen Spalten: 3\n",
      "Anzahl der nichtnumerischen Spalten: 4\n"
     ]
    }
   ],
   "source": [
    "# Ausgabe der Anzahl der numerischen Spalten\n",
    "num_cols = df.select_dtypes(include=['number']).shape[1]\n",
    "print(f\"Anzahl der numerischen Spalten: {num_cols}\")\n",
    "\n",
    "# Ausgabe der Anzahl der nichtnumerischen Spalten\n",
    "non_num_cols = df.select_dtypes(exclude=['number']).shape[1]\n",
    "print(f\"Anzahl der nichtnumerischen Spalten: {non_num_cols}\")"
   ]
  },
  {
   "attachments": {},
   "cell_type": "markdown",
   "metadata": {},
   "source": [
    "#### 5. (2%) Wie hoch ist der durchschnittliche Betrag der Gesamtrechnung?"
   ]
  },
  {
   "cell_type": "code",
   "execution_count": 7,
   "metadata": {},
   "outputs": [
    {
     "name": "stdout",
     "output_type": "stream",
     "text": [
      "Durchschnitt: 19.78594262295082\n"
     ]
    }
   ],
   "source": [
    "mean = df['total_bill'].mean()\n",
    "print(f\"Durchschnitt: {mean}\")"
   ]
  },
  {
   "attachments": {},
   "cell_type": "markdown",
   "metadata": {},
   "source": [
    "#### 6. (2%) Untersuchen Sie mit Hilfe der Visualisierung, ob es Zusammenhänge zwischen der Höhe des Trinkgeldes (tip) und der Gesamtrechnung gibt."
   ]
  },
  {
   "cell_type": "code",
   "execution_count": 33,
   "metadata": {},
   "outputs": [
    {
     "name": "stdout",
     "output_type": "stream",
     "text": [
      "Korrelationskoeffizient: 0.6757341092113643\n"
     ]
    },
    {
     "data": {
      "image/png": "[encoded data removed]",
      "text/plain": [
       "<Figure size 640x480 with 1 Axes>"
      ]
     },
     "metadata": {},
     "output_type": "display_data"
    }
   ],
   "source": [
    "# Berechnung des Korrelationskoeffizienten zwischen den Spalten 'total_bill' und 'tip'\n",
    "corr = df['tip'].corr(df['total_bill'])\n",
    "\n",
    "# Ausgabe des Korrelationskoeffizienten\n",
    "print(f\"Korrelationskoeffizient: {corr}\")\n",
    "\n",
    "# Streudiagramm erstellen\n",
    "plt.scatter(df['total_bill'], df['tip'])\n",
    "plt.xlabel('Gesamtrechnung')\n",
    "plt.ylabel('Trinkgeld')\n",
    "plt.title('Zusammenhang zwischen Trinkgeld und Gesamtrechnung')\n",
    "\n",
    "# Diagramm anzeigen\n",
    "plt.show()"
   ]
  },
  {
   "attachments": {},
   "cell_type": "markdown",
   "metadata": {},
   "source": [
    "#### 7. (2%) Geben Frauen mehr Trinkgeld als Männer? - Wie hoch ist der Mittelwert der Trinkgelder von Männern und Frauen?"
   ]
  },
  {
   "cell_type": "code",
   "execution_count": 34,
   "metadata": {},
   "outputs": [
    {
     "name": "stdout",
     "output_type": "stream",
     "text": [
      "Männer geben mehr Trinkgeld als Frauen.\n"
     ]
    }
   ],
   "source": [
    "# Filtern der Zeilen, die den bestimmten Wert 'Female' in der Spalte 'sex' enthalten\n",
    "filtered_female_df = df.loc[df['sex'] == 'Female']\n",
    "# Berechnung des Durchschnitts der Werte in der Spalte 'tip' für Frauen\n",
    "mean_female = filtered_female_df['tip'].mean()\n",
    "\n",
    "# Filtern der Zeilen, die den bestimmten Wert 'Male' in der Spalte 'sex' enthalten\n",
    "filtered_male_df = df.loc[df['sex'] == 'Male']\n",
    "# Berechnung des Durchschnitts der Werte in der Spalte 'tip' für Männer\n",
    "mean_male = filtered_male_df['tip'].mean()\n",
    "\n",
    "# Ausgabe, ob Frauen mehr Trinkgeld geben als Männer\n",
    "if mean_female > mean_male:\n",
    "    print(\"Frauen geben mehr Trinkgeld als Männer.\")\n",
    "elif mean_female < mean_male:\n",
    "    print(\"Männer geben mehr Trinkgeld als Frauen.\")\n",
    "else:\n",
    "    print(\"Frauen und Männer geben ungefähr gleich viel Trinkgeld.\")"
   ]
  },
  {
   "attachments": {},
   "cell_type": "markdown",
   "metadata": {},
   "source": [
    "---"
   ]
  },
  {
   "attachments": {},
   "cell_type": "markdown",
   "metadata": {},
   "source": [
    "## Aufgabe 2: Data Preprocessing (26%)"
   ]
  },
  {
   "attachments": {},
   "cell_type": "markdown",
   "metadata": {},
   "source": [
    "Sie erhalten eine csv-Datei mit Daten, die bereinigt werden muss, bevor wir sie für die weitere Analyse verwenden können.\n",
    "\n",
    "Schauen Sie sich die Datei in einem csv-Viewer Ihrer Wahl an (z.B. die integrierte Lösung in jupyter-lab oder Microsoft Excel).\n",
    "Was fällt Ihnen auf? \n",
    "\n",
    "#### a) (5%) Weniger als die Hälfte der Datei wird korrekt angezeigt. Schreiben Sie ein Bash-Skript, um die Datei in eine richtige csv-Datei zu konvertieren (so dass alle Zeilen richtig angezeigt werden). \n",
    "\n",
    "Tipp: Nützliche Befehle sind `sed`, `head` und `tail`."
   ]
  },
  {
   "cell_type": "code",
   "execution_count": 10,
   "metadata": {
    "vscode": {
     "languageId": "shellscript"
    }
   },
   "outputs": [],
   "source": [
    "%%bash\n",
    "## vlt habe ich was an der aufgabe nicht verstanden\n",
    "#!/bin/bash\n",
    "\n",
    "# Dateiname der Eingabedatei\n",
    "input_file=\"titanic.csv\"\n",
    "\n",
    "# Dateiname der Ausgabedatei\n",
    "output_file=\"clean_titanic.csv\"\n",
    "\n",
    "# Ersetzen von Semikolons durch Kommas als Trennzeichen\n",
    "sed 's/;/,/g' \"$input_file\" > \"$output_file.tmp\" && mv \"$output_file.tmp\" \"$output_file\""
   ]
  },
  {
   "attachments": {},
   "cell_type": "markdown",
   "metadata": {},
   "source": [
    "#### b) (1%) Laden Sie die Daten in einen Pandas DataFrame"
   ]
  },
  {
   "cell_type": "code",
   "execution_count": 11,
   "metadata": {},
   "outputs": [
    {
     "name": "stdout",
     "output_type": "stream",
     "text": [
      "   PassengerId  Survived  Pclass   \n",
      "0            1         0       3  \\\n",
      "1            2         1       1   \n",
      "2            3         1       3   \n",
      "3            4         1       1   \n",
      "4            5         0       3   \n",
      "\n",
      "                                                Name     Sex   Age  SibSp   \n",
      "0                            Braund, Mr. Owen Harris    male  22.0      1  \\\n",
      "1  Cumings, Mrs. John Bradley (Florence Briggs Th...       1  38.0      1   \n",
      "2                             Heikkinen, Miss. Laina  female  26.0      0   \n",
      "3       Futrelle, Mrs. Jacques Heath (Lily May Peel)  female  35.0      1   \n",
      "4                           Allen, Mr. William Henry    male  35.0      0   \n",
      "\n",
      "   Parch            Ticket     Fare Cabin Embarked  \n",
      "0      0         A/5 21171   7.2500   NaN        S  \n",
      "1      0          PC 17599  71.2833   C85        C  \n",
      "2      0  STON/O2. 3101282   7.9250   NaN        S  \n",
      "3      0            113803  53.1000  C123        S  \n",
      "4      0            373450   8.0500   NaN        S  \n"
     ]
    }
   ],
   "source": [
    "# Dateipfad zur CSV-Datei\n",
    "file_path = \"./clean_titanic.csv\"\n",
    "\n",
    "# Einlesen der CSV-Datei\n",
    "df = pd.read_csv(file_path)\n",
    "\n",
    "# Anzeigen der ersten 5 Zeilen des DataFrame\n",
    "print(df.head())"
   ]
  },
  {
   "attachments": {},
   "cell_type": "markdown",
   "metadata": {},
   "source": [
    "#### c) (4%) Beachten Sie, dass es in der Spalte \"Sex\" eine Vielzahl von Möglichkeiten gibt, zwischen männlich und weiblich zu unterscheiden (dieser Datensatz ist auf diese beiden Optionen beschränkt). Finden Sie alle unterschiedlichen Werte, die in dieser Spalte verwendet werden."
   ]
  },
  {
   "cell_type": "code",
   "execution_count": 12,
   "metadata": {},
   "outputs": [
    {
     "name": "stdout",
     "output_type": "stream",
     "text": [
      "['male' '1' 'female' 'Male' '-1' 'mle' 'Female' 'mal' 'femal' 'femaale'\n",
      " 'femalle' 'm' 'f' 'femae']\n"
     ]
    }
   ],
   "source": [
    "unique_values = df['Sex'].unique()\n",
    "print(unique_values)"
   ]
  },
  {
   "attachments": {},
   "cell_type": "markdown",
   "metadata": {},
   "source": [
    "#### d) (8%) Verwenden Sie Pandas, um alle Einträge in dieser Spalte in \"m\" bzw. \"f\" umzuwandeln.  "
   ]
  },
  {
   "cell_type": "code",
   "execution_count": 13,
   "metadata": {},
   "outputs": [
    {
     "name": "stdout",
     "output_type": "stream",
     "text": [
      "['m' 'f']\n"
     ]
    }
   ],
   "source": [
    "# Erstellen Sie ein Dictionary für die Ersetzung\n",
    "replace_values = {  'Male':'m','Female':'f',\\\n",
    "                    'male':'m','female':'f',\\\n",
    "                    'male':'m','Female':'f',\\\n",
    "                    'mal':'m','femal':'f',\\\n",
    "                    'mle':'m','femaale':'f',\\\n",
    "                    'femalle':'f','femae':'f',\\\n",
    "                    '-1':'m','1':'f'}\n",
    "\n",
    "# Verwenden Sie replace, um die Werte zu ändern\n",
    "df = df.replace({\"Sex\": replace_values})\n",
    "\n",
    "# Überprüfen Sie die einzigartigen Werte erneut, um sicherzustellen, dass die Änderung erfolgreich war\n",
    "unique_values = df['Sex'].unique()\n",
    "print(unique_values)"
   ]
  },
  {
   "attachments": {},
   "cell_type": "markdown",
   "metadata": {},
   "source": [
    "#### e) (8%) Bereinigen Sie die Spalte \"Name\". Entfernen Sie `Mr.`, `Mrs.`, `Master`,... Verwenden Sie den in Klammern angegebenen Namen, falls vorhanden."
   ]
  },
  {
   "attachments": {},
   "cell_type": "markdown",
   "metadata": {},
   "source": [
    "#### Verwendung von ChatGPT\n",
    "[Link](https://www.dropbox.com/s/8zndqsvmjon8fly/SCR-20230529-bgqc.png?dl=0)"
   ]
  },
  {
   "cell_type": "code",
   "execution_count": 14,
   "metadata": {},
   "outputs": [
    {
     "name": "stdout",
     "output_type": "stream",
     "text": [
      "   PassengerId  Survived  Pclass                       Name Sex   Age  SibSp   \n",
      "0            1         0       3       Braund,  Owen Harris   m  22.0      1  \\\n",
      "1            2         1       1    Cumings,  John Bradley    f  38.0      1   \n",
      "2            3         1       3          Heikkinen,  Laina   f  26.0      0   \n",
      "3            4         1       1  Futrelle,  Jacques Heath    f  35.0      1   \n",
      "4            5         0       3      Allen,  William Henry   m  35.0      0   \n",
      "\n",
      "   Parch            Ticket     Fare Cabin Embarked  \n",
      "0      0         A/5 21171   7.2500   NaN        S  \n",
      "1      0          PC 17599  71.2833   C85        C  \n",
      "2      0  STON/O2. 3101282   7.9250   NaN        S  \n",
      "3      0            113803  53.1000  C123        S  \n",
      "4      0            373450   8.0500   NaN        S  \n"
     ]
    }
   ],
   "source": [
    "# Entfernen von Titeln wie \"Mr.\", \"Mrs.\", \"Master\", etc.\n",
    "df['Name'] = df['Name'].str.replace('Mr.', '')\n",
    "df['Name'] = df['Name'].str.replace('Mrs.', '')\n",
    "df['Name'] = df['Name'].str.replace('Master.', '')\n",
    "df['Name'] = df['Name'].str.replace('Miss.', '')\n",
    "\n",
    "# Entfernen von führenden und nachfolgenden Leerzeichen\n",
    "#df['Name'] = df['Name'].str.strip()\n",
    "\n",
    "# Extrahieren des in Klammern angegebenen Namens, falls vorhanden\n",
    "df['Name'] = df['Name'].str.replace(r'\\(.*\\)', '', regex=True)\n",
    "#df['Name'] = df['Name'].str.extract('\\((.*?)\\)', expand=False).str.strip()\n",
    "\n",
    "# Anzeigen der ersten 5 Zeilen des DataFrame\n",
    "print(df.head())\n",
    "#print(df['Name'].sample(450))"
   ]
  },
  {
   "attachments": {},
   "cell_type": "markdown",
   "metadata": {},
   "source": [
    "## Aufgabe 3: Seaborn Plotting (60%)"
   ]
  },
  {
   "attachments": {},
   "cell_type": "markdown",
   "metadata": {},
   "source": [
    "#### 1. (0%) Laden Sie den Titanic-Datensatz als Pandas DataFrame"
   ]
  },
  {
   "cell_type": "code",
   "execution_count": 15,
   "metadata": {},
   "outputs": [
    {
     "name": "stdout",
     "output_type": "stream",
     "text": [
      "True\n"
     ]
    }
   ],
   "source": [
    "print(isinstance(df, pd.DataFrame))"
   ]
  },
  {
   "attachments": {},
   "cell_type": "markdown",
   "metadata": {},
   "source": [
    "#### 2. Beantworten Sie die folgenden Fragen mit Hilfe von Diagrammen:"
   ]
  },
  {
   "attachments": {},
   "cell_type": "markdown",
   "metadata": {},
   "source": [
    "#### a. (10%) Wie ist die Verteilung des Alters der Passagiere?"
   ]
  },
  {
   "attachments": {},
   "cell_type": "markdown",
   "metadata": {},
   "source": [
    "ChatGPT\n",
    "[Link](https://chat.openai.com/share/f8872f26-7c59-4f26-ab75-f9e10f0b0872)"
   ]
  },
  {
   "cell_type": "code",
   "execution_count": 16,
   "metadata": {},
   "outputs": [
    {
     "data": {
      "image/png": "[encoded data removed]",
      "text/plain": [
       "<Figure size 640x480 with 1 Axes>"
      ]
     },
     "metadata": {},
     "output_type": "display_data"
    }
   ],
   "source": [
    "# Runde die Werte in 'Age' zur nächsten Ganzzahl\n",
    "df['Age'] = df['Age'].round()\n",
    "\n",
    "# Berechne die Anzahl jeder Altersgruppe und erstelle einen neuen DataFrame\n",
    "counts = df['Age'].value_counts().sort_index()\n",
    "counts_df = pd.DataFrame({'Age': counts.index, 'Count': counts.values})\n",
    "\n",
    "# Stil festlegen\n",
    "sns.set_theme(context='notebook', style='darkgrid', palette='deep', font='sans-serif', font_scale=1, color_codes=True, rc=None)\n",
    "\n",
    "# Liniendiagramm erstellen\n",
    "sns.lineplot(data=counts_df, x=\"Age\", y=\"Count\", marker='o')\n",
    "\n",
    "# Glättungslinie hinzufügen\n",
    "sns.regplot(data=counts_df, x=\"Age\", y=\"Count\", scatter=False, order=6, line_kws={'color': 'red'})\n",
    "\n",
    "# Diagramm anzeigen\n",
    "plt.show()"
   ]
  },
  {
   "attachments": {},
   "cell_type": "markdown",
   "metadata": {},
   "source": [
    "#### b. (10%) Waren die Passagiere im Allgemeinen jünger als der Durchschnitt oder älter? Visualisieren Sie Ihre Ergebnisse!"
   ]
  },
  {
   "cell_type": "code",
   "execution_count": 17,
   "metadata": {},
   "outputs": [
    {
     "name": "stdout",
     "output_type": "stream",
     "text": [
      "Durchschnitt: 29.69327731092437\n",
      "384\n",
      "330\n"
     ]
    },
    {
     "data": {
      "text/plain": [
       "<Axes: >"
      ]
     },
     "execution_count": 17,
     "metadata": {},
     "output_type": "execute_result"
    },
    {
     "data": {
      "image/png": "[encoded data removed]",
      "text/plain": [
       "<Figure size 640x480 with 1 Axes>"
      ]
     },
     "metadata": {},
     "output_type": "display_data"
    }
   ],
   "source": [
    "# Durchschnitt\n",
    "mean = df['Age'].mean()\n",
    "print(f\"Durchschnitt: {mean}\")\n",
    "\n",
    "# Anzahl der Personen jünger als Durchschnitt\n",
    "young = np.where(df['Age'] < mean)\n",
    "num_young = len(young[0])\n",
    "print(num_young)\n",
    "\n",
    "# Anzahl der Personen älter als Durchschnitt\n",
    "old = np.where(df['Age'] > mean)\n",
    "num_old = len(old[0])\n",
    "print(num_old)\n",
    "\n",
    "# Balkendiagramm erstellen\n",
    "data = {'Alter':['Jung','Alt'], 'Anzahl':[ num_young, num_old ] }\n",
    "sns.barplot(x='Alter', y='Anzahl', data=data)\n"
   ]
  },
  {
   "attachments": {},
   "cell_type": "markdown",
   "metadata": {},
   "source": [
    "#### c. (10%) Ändert sich das Ergebnis in (b) für Männer und Frauen?"
   ]
  },
  {
   "cell_type": "code",
   "execution_count": 18,
   "metadata": {},
   "outputs": [
    {
     "name": "stdout",
     "output_type": "stream",
     "text": [
      "30.719646799116997\n",
      "27.911877394636015\n",
      "411\n",
      "303\n",
      "337\n",
      "377\n"
     ]
    },
    {
     "data": {
      "text/plain": [
       "<Axes: >"
      ]
     },
     "execution_count": 18,
     "metadata": {},
     "output_type": "execute_result"
    },
    {
     "data": {
      "image/png": "[encoded data removed]",
      "text/plain": [
       "<Figure size 640x480 with 1 Axes>"
      ]
     },
     "metadata": {},
     "output_type": "display_data"
    }
   ],
   "source": [
    "# Durschnittsalter Männer\n",
    "men_average = df.loc[df['Sex'] == 'm', 'Age'].mean()\n",
    "print(men_average)\n",
    "\n",
    "# Durchschnittsalter Frauen\n",
    "woman_average = df.loc[df['Sex'] == 'f', 'Age'].mean()\n",
    "print(woman_average)\n",
    "\n",
    "# Anzahl Männer jünger als Durchschnitt der Männer\n",
    "m_young = np.where(df['Age'] < men_average)\n",
    "m_num_young = len(m_young[0])\n",
    "print(m_num_young)\n",
    "\n",
    "# Anzahl Männer älter als Durchschnitt der Männer\n",
    "m_old = np.where(df['Age'] > men_average)\n",
    "m_num_old = len(m_old[0])\n",
    "print(m_num_old)\n",
    "\n",
    "# Anzahl Frauen jünger als Durchschnitt der Frauen\n",
    "f_young = np.where(df['Age'] < woman_average)\n",
    "f_num_young = len(f_young[0])\n",
    "print(f_num_young)\n",
    "\n",
    "# Anzahl Frauen älter als Durchschnitt der Frauen\n",
    "f_old = np.where(df['Age'] > woman_average)\n",
    "f_num_old = len(f_old[0])\n",
    "print(f_num_old)\n",
    "\n",
    "# Balkendiagramm erstellen\n",
    "data = {'Alter':['Frauen Jung','Frauen Alt', 'Männer Jung', 'Männer Alt'],\\\n",
    "       'Anzahl':[ f_num_young, f_num_old, m_num_young, m_num_old ] }\n",
    "sns.barplot(x='Alter', y='Anzahl', data=data)"
   ]
  },
  {
   "attachments": {},
   "cell_type": "markdown",
   "metadata": {},
   "source": [
    "#### d. (10%) Welches Geschlecht hatte eine höhere Überlebensrate?"
   ]
  },
  {
   "cell_type": "code",
   "execution_count": 19,
   "metadata": {},
   "outputs": [
    {
     "name": "stdout",
     "output_type": "stream",
     "text": [
      "314\n",
      "577\n"
     ]
    },
    {
     "data": {
      "text/plain": [
       "<Axes: >"
      ]
     },
     "execution_count": 19,
     "metadata": {},
     "output_type": "execute_result"
    },
    {
     "data": {
      "image/png": "[encoded data removed]",
      "text/plain": [
       "<Figure size 640x480 with 1 Axes>"
      ]
     },
     "metadata": {},
     "output_type": "display_data"
    }
   ],
   "source": [
    "# Überlebensrate Frauen\n",
    "num_f = df.loc[df['Sex'] == 'f', 'Survived'].count()\n",
    "print(num_f)\n",
    "f_surv = df.loc[(df['Sex'] == 'f') & (df['Survived'] == 1), 'Survived'].count()\n",
    "f_rate = f_surv / num_f\n",
    "\n",
    "# Überlebensrate Männer\n",
    "num_m = df.loc[df['Sex'] == 'm', 'Survived'].count()\n",
    "print(num_m)\n",
    "m_surv = df.loc[(df['Sex'] == 'm') & (df['Survived'] == 1), 'Survived'].count()\n",
    "m_rate = m_surv / num_m\n",
    "\n",
    "# Balkendiagramm erstellen\n",
    "data = {'Geschlecht':['Frauen','Männer'], 'Überlebensrate':[ f_rate, m_rate ] }\n",
    "sns.barplot(x='Geschlecht', y='Überlebensrate', data=data)"
   ]
  },
  {
   "attachments": {},
   "cell_type": "markdown",
   "metadata": {},
   "source": [
    "#### e. (10%) Wie hoch ist der durchschnittliche Fahrpreis (fare) für jede Klasse? "
   ]
  },
  {
   "cell_type": "code",
   "execution_count": 20,
   "metadata": {},
   "outputs": [
    {
     "name": "stdout",
     "output_type": "stream",
     "text": [
      "84.15\n",
      "29.87\n",
      "13.68\n"
     ]
    },
    {
     "data": {
      "text/plain": [
       "<Axes: >"
      ]
     },
     "execution_count": 20,
     "metadata": {},
     "output_type": "execute_result"
    },
    {
     "data": {
      "image/png": "[encoded data removed]",
      "text/plain": [
       "<Figure size 640x480 with 1 Axes>"
      ]
     },
     "metadata": {},
     "output_type": "display_data"
    }
   ],
   "source": [
    "# Durchschnittspreis 1. Klasse\n",
    "first_average = df.loc[df['Pclass'] == 1, 'Fare'].mean().round(2)\n",
    "#print(first_average)\n",
    "\n",
    "# Durchschnittspreis 2. Klasse\n",
    "second_average = df.loc[df['Pclass'] == 2, 'Age'].mean().round(2)\n",
    "#print(second_average)\n",
    "\n",
    "# Durchschnittspreis 3. Klasse\n",
    "third_average = df.loc[df['Pclass'] == 3 , 'Fare'].mean().round(2)\n",
    "#print(third_average)\n",
    "\n",
    "# Balkendiagramm erstellen\n",
    "data = {'Passagierklasse':['1. Klasse','2. Klasse', '3. Klasse'], 'Preis':[ first_average, second_average, third_average ] }\n",
    "sns.barplot(x='Passagierklasse', y='Preis', data=data)"
   ]
  },
  {
   "attachments": {},
   "cell_type": "markdown",
   "metadata": {},
   "source": [
    "#### f. (10%) Welche Fahrkartenklasse hatte eine höhere Überlebensrate?"
   ]
  },
  {
   "cell_type": "code",
   "execution_count": 21,
   "metadata": {},
   "outputs": [
    {
     "name": "stdout",
     "output_type": "stream",
     "text": [
      "216\n",
      "184\n",
      "491\n"
     ]
    },
    {
     "data": {
      "text/plain": [
       "<Axes: >"
      ]
     },
     "execution_count": 21,
     "metadata": {},
     "output_type": "execute_result"
    },
    {
     "data": {
      "image/png": "[encoded data removed]",
      "text/plain": [
       "<Figure size 640x480 with 1 Axes>"
      ]
     },
     "metadata": {},
     "output_type": "display_data"
    }
   ],
   "source": [
    "# Überlebensrate 1. Klasse\n",
    "num_first = df.loc[df['Pclass'] == 1 , 'Survived'].count()\n",
    "print(num_first)\n",
    "first_surv = df.loc[(df['Pclass'] == 1 ) & (df['Survived'] == 1), 'Survived'].count()\n",
    "first_rate = first_surv / num_first\n",
    "\n",
    "# Überlebensrate 2. Klasse\n",
    "num_second = df.loc[df['Pclass'] == 2 , 'Survived'].count()\n",
    "print(num_second)\n",
    "second_surv = df.loc[(df['Pclass'] == 2 ) & (df['Survived'] == 1), 'Survived'].count()\n",
    "second_rate = second_surv / num_second\n",
    "\n",
    "# Überlebensrate 3. Klasse\n",
    "num_third = df.loc[df['Pclass'] == 3 , 'Survived'].count()\n",
    "print(num_third)\n",
    "third_surv = df.loc[(df['Pclass'] == 3 ) & (df['Survived'] == 1), 'Survived'].count()\n",
    "third_rate = third_surv / num_third\n",
    "\n",
    "# Balkendiagramm erstellen\n",
    "data = {'Passagierklasse':['1. Klasse','2. Klasse', '3. Klasse'], 'Überlebensrate':[ first_rate, second_rate, third_rate ] }\n",
    "sns.barplot(x='Passagierklasse', y='Überlebensrate', data=data)"
   ]
  }
 ],
 "metadata": {
  "kernelspec": {
   "display_name": "Python 3",
   "language": "python",
   "name": "python3"
  },
  "language_info": {
   "codemirror_mode": {
    "name": "ipython",
    "version": 3
   },
   "file_extension": ".py",
   "mimetype": "text/x-python",
   "name": "python",
   "nbconvert_exporter": "python",
   "pygments_lexer": "ipython3",
   "version": "3.11.3"
  }
 },
 "nbformat": 4,
 "nbformat_minor": 4
}
