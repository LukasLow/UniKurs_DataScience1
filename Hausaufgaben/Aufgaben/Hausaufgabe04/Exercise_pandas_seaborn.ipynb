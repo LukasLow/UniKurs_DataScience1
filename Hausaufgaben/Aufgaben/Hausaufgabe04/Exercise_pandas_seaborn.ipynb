{
 "cells": [
  {
   "attachments": {},
   "cell_type": "markdown",
   "metadata": {},
   "source": [
    "# Hausaufgabe 4\n",
    "\n",
    "### Abgage via studip bis spätestens 05.06. 12:00 Uhr (zur VL)! \n",
    "### Verteidigung 08.06. 08:00-10:00 Uhr (Timeslots werden vorher bekannt gegeben)!\n",
    "\n",
    "\n",
    "- In jedem Blatt kann maximal 5% Bonus erreicht werden, falls:\n",
    "    - Mind. 60% des Arbeitsblatts korrekt bearbeitet wurde und\n",
    "    - das Arbeitsblatt erfolgreich verteidigt (den Tutoren erklärt) wurde.\n",
    "    - Bonus % = 5% * Teil der Hausaufgabe erfolgreich verteidigt\n",
    "    - Erfolgreiche Verteidigung: Ein von uns ausgewähltes Team-Mitglied erklärt die Lösung und beantwortet Fragen dazu.\n",
    "    - ChatGPT und andere Hilfsmittel dürfen verwendet werden, müssen aber zitiert werden.\n",
    "    - Code muss ohne Hilfsmittel erläutert werden\n",
    "- Wir bewerten nicht nur die Korrektheit der Ergebnisse, sondern auch ob der Code effizient, einfach zu verstehen, aufgeräumt und gut dokumentiert ist."
   ]
  },
  {
   "cell_type": "code",
   "execution_count": 1,
   "metadata": {},
   "outputs": [],
   "source": [
    "import pandas as pd"
   ]
  },
  {
   "attachments": {},
   "cell_type": "markdown",
   "metadata": {
    "tags": []
   },
   "source": [
    "## Aufgabe 1: Pandas Basics (14%)"
   ]
  },
  {
   "attachments": {},
   "cell_type": "markdown",
   "metadata": {},
   "source": [
    "#### 1. (2%) Importieren Sie die csv-Datei \"tips\" von https://github.com/mwaskom/seaborn-data."
   ]
  },
  {
   "cell_type": "code",
   "execution_count": 9,
   "metadata": {},
   "outputs": [
    {
     "name": "stdout",
     "output_type": "stream",
     "text": [
      "   total_bill   tip     sex smoker  day    time  size\n",
      "0       16.99  1.01  Female     No  Sun  Dinner     2\n",
      "1       10.34  1.66    Male     No  Sun  Dinner     3\n",
      "2       21.01  3.50    Male     No  Sun  Dinner     3\n",
      "3       23.68  3.31    Male     No  Sun  Dinner     2\n",
      "4       24.59  3.61  Female     No  Sun  Dinner     4\n"
     ]
    }
   ],
   "source": [
    "import requests\n",
    "import matplotlib.pyplot as plt\n",
    "import io\n",
    "\n",
    "URL_CSV = \"https://raw.githubusercontent.com/mwaskom/seaborn-data/master/tips.csv\"\n",
    "csv_data = requests.get(URL_CSV).content\n",
    "df = pd.read_csv(io.StringIO(csv_data.decode('utf-8')))\n",
    "print(df.head())"
   ]
  },
  {
   "attachments": {},
   "cell_type": "markdown",
   "metadata": {},
   "source": [
    "#### 2. (2%) Wie viele Spalten und Zeilen hat dieser dataframe?"
   ]
  },
  {
   "cell_type": "code",
   "execution_count": 10,
   "metadata": {},
   "outputs": [
    {
     "name": "stdout",
     "output_type": "stream",
     "text": [
      "Anzahl der Zeilen: 244\n",
      "Anzahl der Spalten: 7\n"
     ]
    }
   ],
   "source": [
    "print(f\"Anzahl der Zeilen: {df.shape[0]}\")\n",
    "print(f\"Anzahl der Spalten: {df.shape[1]}\")"
   ]
  },
  {
   "attachments": {},
   "cell_type": "markdown",
   "metadata": {},
   "source": [
    "#### 3. (2%) Was sind die Spalten des dataframe?"
   ]
  },
  {
   "cell_type": "code",
   "execution_count": 11,
   "metadata": {},
   "outputs": [
    {
     "name": "stdout",
     "output_type": "stream",
     "text": [
      "Index(['total_bill', 'tip', 'sex', 'smoker', 'day', 'time', 'size'], dtype='object')\n"
     ]
    }
   ],
   "source": [
    "print(df.columns)"
   ]
  },
  {
   "attachments": {},
   "cell_type": "markdown",
   "metadata": {},
   "source": [
    "#### 4. (2%) Wie viele numerische und nicht-numerische Spalten enthält es?"
   ]
  },
  {
   "cell_type": "code",
   "execution_count": 12,
   "metadata": {},
   "outputs": [
    {
     "name": "stdout",
     "output_type": "stream",
     "text": [
      "Anzahl der numerischen Spalten: 3\n",
      "Anzahl der nichtnumerischen Spalten: 4\n"
     ]
    }
   ],
   "source": [
    "# Ausgabe der Anzahl der numerischen Spalten\n",
    "num_cols = df.select_dtypes(include=['number']).shape[1]\n",
    "print(f\"Anzahl der numerischen Spalten: {num_cols}\")\n",
    "\n",
    "# Ausgabe der Anzahl der nichtnumerischen Spalten\n",
    "non_num_cols = df.select_dtypes(exclude=['number']).shape[1]\n",
    "print(f\"Anzahl der nichtnumerischen Spalten: {non_num_cols}\")"
   ]
  },
  {
   "attachments": {},
   "cell_type": "markdown",
   "metadata": {},
   "source": [
    "#### 5. (2%) Wie hoch ist der durchschnittliche Betrag der Gesamtrechnung?"
   ]
  },
  {
   "cell_type": "code",
   "execution_count": 13,
   "metadata": {},
   "outputs": [
    {
     "name": "stdout",
     "output_type": "stream",
     "text": [
      "Durchschnitt: 19.78594262295082\n"
     ]
    }
   ],
   "source": [
    "mean = df['total_bill'].mean()\n",
    "print(f\"Durchschnitt: {mean}\")"
   ]
  },
  {
   "attachments": {},
   "cell_type": "markdown",
   "metadata": {},
   "source": [
    "#### 6. (2%) Untersuchen Sie mit Hilfe der Visualisierung, ob es Zusammenhänge zwischen der Höhe des Trinkgeldes (tip) und der Gesamtrechnung gibt."
   ]
  },
  {
   "cell_type": "code",
   "execution_count": 14,
   "metadata": {},
   "outputs": [
    {
     "name": "stdout",
     "output_type": "stream",
     "text": [
      "Korrelationskoeffizient: 0.6757341092113641\n"
     ]
    }
   ],
   "source": [
    "# Berechnung des Korrelationskoeffizienten zwischen den Spalten 'total_bill' und 'tip'\n",
    "corr = df['tip'].corr(df['total_bill'])\n",
    "\n",
    "# Ausgabe des Korrelationskoeffizienten\n",
    "print(f\"Korrelationskoeffizient: {corr}\")"
   ]
  },
  {
   "attachments": {},
   "cell_type": "markdown",
   "metadata": {},
   "source": [
    "#### 7. (2%) Geben Frauen mehr Trinkgeld als Männer? - Wie hoch ist der Mittelwert der Trinkgelder von Männern und Frauen?"
   ]
  },
  {
   "cell_type": "code",
   "execution_count": 15,
   "metadata": {},
   "outputs": [
    {
     "name": "stdout",
     "output_type": "stream",
     "text": [
      "Durchschnitt: 2.8334482758620685\n",
      "Durchschnitt: 3.0896178343949043\n",
      "Männer geben mehr Trinkgeld.\n"
     ]
    }
   ],
   "source": [
    "# Filtern der Zeilen, die den bestimmten Wert 'Female' in der Spalte 'sex' enthalten\n",
    "filtered_df = df.loc[df['sex'] == 'Female']\n",
    "\n",
    "# Ausgabe des Durchschnitts der Werte in der Spalte 'tip'\n",
    "mean_f = filtered_df['tip'].mean()\n",
    "\n",
    "# Filtern der Zeilen, die den bestimmten Wert 'Male' in der Spalte 'sex' enthalten\n",
    "filtered_df = df.loc[df['sex'] == 'Male']\n",
    "\n",
    "# Ausgabe des Durchschnitts der Werte in der Spalte 'tip'\n",
    "mean_m = filtered_df['tip'].mean()\n",
    "\n",
    "# Ausgeben, ob Frauen mehr Trinkgeld geben als Männer\n",
    "if mean_f > mean_m:\n",
    "    print(\"Frauen geben mehr Trinkgeld.\")\n",
    "if mean_f < mean_m:\n",
    "    print(\"Männer geben mehr Trinkgeld.\") "
   ]
  },
  {
   "attachments": {},
   "cell_type": "markdown",
   "metadata": {},
   "source": [
    "---"
   ]
  },
  {
   "attachments": {},
   "cell_type": "markdown",
   "metadata": {},
   "source": [
    "## Aufgabe 2: Data Preprocessing (26%)"
   ]
  },
  {
   "attachments": {},
   "cell_type": "markdown",
   "metadata": {},
   "source": [
    "Sie erhalten eine csv-Datei mit Daten, die bereinigt werden muss, bevor wir sie für die weitere Analyse verwenden können.\n",
    "\n",
    "Schauen Sie sich die Datei in einem csv-Viewer Ihrer Wahl an (z.B. die integrierte Lösung in jupyter-lab oder Microsoft Excel).\n",
    "Was fällt Ihnen auf? \n",
    "\n",
    "#### a) (5%) Weniger als die Hälfte der Datei wird korrekt angezeigt. Schreiben Sie ein Bash-Skript, um die Datei in eine richtige csv-Datei zu konvertieren (so dass alle Zeilen richtig angezeigt werden). \n",
    "\n",
    "Tipp: Nützliche Befehle sind `sed`, `head` und `tail`."
   ]
  },
  {
   "cell_type": "code",
   "execution_count": null,
   "metadata": {
    "vscode": {
     "languageId": "shellscript"
    }
   },
   "outputs": [
    {
     "ename": "SyntaxError",
     "evalue": "invalid syntax (3617789107.py, line 10)",
     "output_type": "error",
     "traceback": [
      "\u001b[0;36m  Cell \u001b[0;32mIn[16], line 10\u001b[0;36m\u001b[0m\n\u001b[0;31m    sed 's/^[ \\t]*//;s/[ \\t]*$//' \"$input_file\" > \"$output_file\"\u001b[0m\n\u001b[0m        ^\u001b[0m\n\u001b[0;31mSyntaxError\u001b[0m\u001b[0;31m:\u001b[0m invalid syntax\n"
     ]
    }
   ],
   "source": [
    "## noch in arbeit, noch nicht fertig ##\n",
    "\n",
    "#!/bin/bash\n",
    "\n",
    "# Dateiname der Eingabedatei\n",
    "input_file=\"tips.csv\"\n",
    "\n",
    "# Dateiname der Ausgabedatei\n",
    "output_file=\"clean_tips.csv\"\n",
    "\n",
    "# Entfernen von Leerzeichen am Anfang und Ende jeder Zeile\n",
    "sed 's/^[ \\t]*//;s/[ \\t]*$//' \"$input_file\" > \"$output_file\"\n",
    "\n",
    "# Entfernen der ersten Zeile (Header)\n",
    "tail -n +2 \"$output_file\" > \"$output_file.tmp\" && mv \"$output_file.tmp\" \"$output_file\"\n",
    "\n",
    "# Entfernen der letzten Zeile (Footer)\n",
    "head -n -1 \"$output_file\" > \"$output_file.tmp\" && mv \"$output_file.tmp\" \"$output_file\"\n",
    "\n",
    "# Ersetzen von Semikolons durch Kommas als Trennzeichen\n",
    "sed 's/;/,/g' \"$output_file\" > \"$output_file.tmp\" && mv \"$output_file.tmp\" \"$output_file\""
   ]
  },
  {
   "attachments": {},
   "cell_type": "markdown",
   "metadata": {},
   "source": [
    "#### b) (1%) Laden Sie die Daten in einen Pandas DataFrame"
   ]
  },
  {
   "cell_type": "code",
   "execution_count": null,
   "metadata": {},
   "outputs": [],
   "source": []
  },
  {
   "attachments": {},
   "cell_type": "markdown",
   "metadata": {},
   "source": [
    "#### c) (4%) Beachten Sie, dass es in der Spalte \"Sex\" eine Vielzahl von Möglichkeiten gibt, zwischen männlich und weiblich zu unterscheiden (dieser Datensatz ist auf diese beiden Optionen beschränkt). Finden Sie alle unterschiedlichen Werte, die in dieser Spalte verwendet werden."
   ]
  },
  {
   "cell_type": "code",
   "execution_count": null,
   "metadata": {},
   "outputs": [],
   "source": []
  },
  {
   "attachments": {},
   "cell_type": "markdown",
   "metadata": {},
   "source": [
    "#### d) (8%) Verwenden Sie Pandas, um alle Einträge in dieser Spalte in \"m\" bzw. \"f\" umzuwandeln.  "
   ]
  },
  {
   "cell_type": "code",
   "execution_count": null,
   "metadata": {},
   "outputs": [],
   "source": []
  },
  {
   "attachments": {},
   "cell_type": "markdown",
   "metadata": {},
   "source": [
    "#### e) (8%) Bereinigen Sie die Spalte \"Name\". Entfernen Sie `Mr.`, `Mrs.`, `Master`,... Verwenden Sie den in Klammern angegebenen Namen, falls vorhanden."
   ]
  },
  {
   "cell_type": "code",
   "execution_count": null,
   "metadata": {},
   "outputs": [],
   "source": []
  },
  {
   "attachments": {},
   "cell_type": "markdown",
   "metadata": {},
   "source": [
    "## Aufgabe 3: Seaborn Plotting (60%)"
   ]
  },
  {
   "attachments": {},
   "cell_type": "markdown",
   "metadata": {},
   "source": [
    "#### 1. (0%) Laden Sie den Titanic-Datensatz als Pandas DataFrame"
   ]
  },
  {
   "cell_type": "code",
   "execution_count": null,
   "metadata": {},
   "outputs": [],
   "source": []
  },
  {
   "attachments": {},
   "cell_type": "markdown",
   "metadata": {},
   "source": [
    "#### 2. Beantworten Sie die folgenden Fragen mit Hilfe von Diagrammen:"
   ]
  },
  {
   "attachments": {},
   "cell_type": "markdown",
   "metadata": {},
   "source": [
    "#### a. (10%) Wie ist die Verteilung des Alters der Passagiere?"
   ]
  },
  {
   "cell_type": "code",
   "execution_count": null,
   "metadata": {},
   "outputs": [],
   "source": []
  },
  {
   "attachments": {},
   "cell_type": "markdown",
   "metadata": {},
   "source": [
    "#### b. (10%) Waren die Passagiere im Allgemeinen jünger als der Durchschnitt oder älter? Visualisieren Sie Ihre Ergebnisse!"
   ]
  },
  {
   "cell_type": "code",
   "execution_count": null,
   "metadata": {},
   "outputs": [],
   "source": []
  },
  {
   "attachments": {},
   "cell_type": "markdown",
   "metadata": {},
   "source": [
    "#### c. (10%) Ändert sich das Ergebnis in (b) für Männer und Frauen?"
   ]
  },
  {
   "cell_type": "code",
   "execution_count": null,
   "metadata": {},
   "outputs": [],
   "source": []
  },
  {
   "attachments": {},
   "cell_type": "markdown",
   "metadata": {},
   "source": [
    "#### d. (10%) Welches Geschlecht hatte eine höhere Überlebensrate?"
   ]
  },
  {
   "cell_type": "code",
   "execution_count": null,
   "metadata": {},
   "outputs": [],
   "source": []
  },
  {
   "attachments": {},
   "cell_type": "markdown",
   "metadata": {},
   "source": [
    "#### e. (10%) Wie hoch ist der durchschnittliche Fahrpreis (fare) für jede Klasse? "
   ]
  },
  {
   "cell_type": "code",
   "execution_count": null,
   "metadata": {},
   "outputs": [],
   "source": []
  },
  {
   "attachments": {},
   "cell_type": "markdown",
   "metadata": {},
   "source": [
    "#### f. (10%) Welche Fahrkartenklasse hatte eine höhere Überlebensrate?"
   ]
  },
  {
   "cell_type": "code",
   "execution_count": null,
   "metadata": {},
   "outputs": [],
   "source": []
  }
 ],
 "metadata": {
  "kernelspec": {
   "display_name": "Python 3",
   "language": "python",
   "name": "python3"
  },
  "language_info": {
   "codemirror_mode": {
    "name": "ipython",
    "version": 3
   },
   "file_extension": ".py",
   "mimetype": "text/x-python",
   "name": "python",
   "nbconvert_exporter": "python",
   "pygments_lexer": "ipython3",
   "version": "3.11.3"
  }
 },
 "nbformat": 4,
 "nbformat_minor": 4
}
