{
 "cells": [
  {
   "cell_type": "markdown",
   "metadata": {},
   "source": [
    "# Ablauf:"
   ]
  },
  {
   "cell_type": "markdown",
   "id": "f233ca60",
   "metadata": {},
   "source": [
    "1. Formelles\n",
    "2. Jupyter Einführung\n",
    "3. Python Wiederholung\n",
    "4. Python Übung\n",
    "5. Hausaufgabe"
   ]
  },
  {
   "cell_type": "markdown",
   "id": "3f7efd14",
   "metadata": {},
   "source": [
    "# Formelles"
   ]
  },
  {
   "attachments": {},
   "cell_type": "markdown",
   "id": "9e64130f",
   "metadata": {},
   "source": [
    "Tutorien:\n",
    "- Alle zwei Wochen \n",
    "- Donnerstags von 08.00-10.00 Uhr\n",
    "- Ausnahme: Tutorium an Christi Himmelfahrt (18.05.) wird auf Mittwoch 17.05. verschoben\n",
    "- Interaktiv\n",
    "- Inhalte sollen die Vorlesung ergänzen.\n",
    "- Vorbereitung auf die Hausaufgaben\n",
    "\n",
    "Hausaufgaben (siehe VL):\n",
    "- Zwei Wochen Zeit (außer für das aktuelle Blatt).\n",
    "- Abgabe in 3er-Gruppen\n",
    "- Testate (Verteidigung) finden in Raum 2.164 statt\n",
    "- Tutoren bieten nach Abgabe der Hausaufgaben 20-minütige Zeitslots an\n",
    "- Letztes Testat am 20.07.23 (vorlesungsfreie Zeit)\n",
    "- In jedem Blatt kann maximal 5% Bonus erreicht werden, falls:\n",
    "    - Mind. 60% erreicht\n",
    "    - Erfolgreich verteidigt (den Tutoren erklären können)\n",
    "    - Bonus % = 5% * Teil der Hausaufgabe erfolgreich verteidigt\n",
    "\n",
    "Klausur:\n",
    "- Take-Home-Klausur über eine Woche\n",
    "- 1. Termin: 28.08. - 04.09.23\n",
    "- 2. Termin: 09.10. - 16.10.23\n",
    "\n",
    "Fragen? \n",
    "- Rocketchat: https://chat.gwdg.de/channel/data_science_ss23\n",
    "\n",
    "\n",
    "Follow along: jupyter-cloud.gwdg.de\n"
   ]
  },
  {
   "cell_type": "markdown",
   "id": "de8e7a3f",
   "metadata": {},
   "source": [
    "# Jupyter Einführung"
   ]
  },
  {
   "cell_type": "markdown",
   "id": "6b854618",
   "metadata": {
    "tags": []
   },
   "source": [
    "## 1. Markdown"
   ]
  },
  {
   "cell_type": "markdown",
   "id": "e514814f",
   "metadata": {},
   "source": [
    "Die Lösungen zu den Fragen in Übungen und Hausaufgaben solltet ihr in einem Notebook dokumentieren. Zu diesem Zweck empfehlen wir, die Lösungen in einer Markdown-Zelle zu beschreiben. (Mehr Infos: https://towardsdatascience.com/write-markdown-latex-in-the-jupyter-notebook-10985edb91fd) Auf diese Weise könnt ihr euren Text schön formatieren. Hier sind einige Beispiele dafür, was möglich ist:"
   ]
  },
  {
   "cell_type": "markdown",
   "id": "8f942ba1",
   "metadata": {},
   "source": [
    "# This is a level 1 heading\n",
    "\n",
    "## This is a level 2 heading\n",
    "\n",
    "This is some plain text that forms a paragraph. Add emphasis via **bold** and __bold__, or *italic* and _italic_. \n",
    "\n",
    "Paragraphs must be separated by an empty line. \n",
    "\n",
    "* Sometimes we want to include lists. \n",
    "* Which can be bulleted using asterisks. \n",
    "\n",
    "1. Lists can also be numbered. \n",
    "2. If we want an ordered list.\n",
    "\n",
    "[It is possible to include hyperlinks](https://www.example.com)\n",
    "\n",
    "Inline code uses single backticks: `foo()`, and code blocks use triple backticks: \n",
    "```python\n",
    "def stay_safe(coronavirus)\n",
    "  if not home:\n",
    "    return home\n",
    "``` \n",
    "Or can be indented by 4 spaces: \n",
    "\n",
    "    foo()\n",
    "    \n",
    "And finally, adding images is easy: ![Alt text](https://www.example.com/image.jpg)\n",
    "\n",
    "This math is inline $a^2+b^2=c^2$.\n",
    "\n",
    "This is on a separate line\n",
    "\n",
    "$$\n",
    "a^2+b^2=c^2\n",
    "$$\n",
    "\n",
    "A table:\n",
    "\n",
    "| Id | Label    | Price |\n",
    "|--- |----------| ------|\n",
    "| 01 | Markdown |\\$1600 |\n",
    "| 02 | is       |  \\$12 |\n",
    "| 03 | AWESOME  | \\$999 |"
   ]
  },
  {
   "cell_type": "markdown",
   "id": "917bb781",
   "metadata": {},
   "source": [
    "## 2. Pakete "
   ]
  },
  {
   "cell_type": "markdown",
   "id": "8232b17f",
   "metadata": {},
   "source": [
    "Viele Python-Pakete sind bereits vorinstalliert in jupyter-hub:"
   ]
  },
  {
   "cell_type": "code",
   "execution_count": null,
   "id": "3b42ddd4",
   "metadata": {},
   "outputs": [],
   "source": [
    "import numpy as np\n",
    "import matplotlib.pyplot as plt\n",
    "import pandas as pd\n",
    "import seaborn as sns\n",
    "import sklearn\n",
    "import tensorflow\n",
    "import torch"
   ]
  },
  {
   "cell_type": "markdown",
   "id": "7f699d02",
   "metadata": {},
   "source": [
    "Falls etwas fehlt könnt ihr es einfach direkt aus dem Notebook installieren:"
   ]
  },
  {
   "cell_type": "code",
   "execution_count": null,
   "id": "28a343fb",
   "metadata": {},
   "outputs": [],
   "source": [
    "!pip install hiplot"
   ]
  },
  {
   "cell_type": "markdown",
   "id": "4fe67236",
   "metadata": {},
   "source": [
    "Jupyter hat eine nette Hilfe-Funktion, falls ihr mal nicht wisst wie ein Paket oder eine Methode funktioniert oder zu benutzen ist:"
   ]
  },
  {
   "cell_type": "code",
   "execution_count": null,
   "id": "e3cdf289",
   "metadata": {},
   "outputs": [],
   "source": [
    "from math import sin\n",
    "sin?"
   ]
  },
  {
   "cell_type": "markdown",
   "id": "34a24859",
   "metadata": {},
   "source": [
    "## 3. Plotting"
   ]
  },
  {
   "cell_type": "code",
   "execution_count": null,
   "id": "f86de18d",
   "metadata": {},
   "outputs": [],
   "source": [
    "%matplotlib inline\n",
    "import matplotlib.pyplot as plt\n",
    "plt.plot([1,2,3,4,10])"
   ]
  },
  {
   "cell_type": "markdown",
   "id": "f5146807",
   "metadata": {},
   "source": [
    "## 4. Debugging"
   ]
  },
  {
   "cell_type": "markdown",
   "id": "6fff5f60",
   "metadata": {},
   "source": [
    "Wenn ihr in eurem Code auf einen Fehler stoßt, könnt ihr ihn direkt im Notebook mit dem magischen Befehl `%debug` debuggen. Dies erlaubt euch, mit `d` und `u` durch den Stacktrace zu navigieren und Variablen zu untersuchen. Ihr verlasst den Debug-Modus mit `q`."
   ]
  },
  {
   "cell_type": "code",
   "execution_count": null,
   "id": "debec619",
   "metadata": {},
   "outputs": [],
   "source": [
    "def error_function(x):\n",
    "    if x > 0:\n",
    "        return error_function(x-1)\n",
    "    return 1/x"
   ]
  },
  {
   "cell_type": "code",
   "execution_count": null,
   "id": "e9f045fe",
   "metadata": {},
   "outputs": [],
   "source": [
    "error_function(4)"
   ]
  },
  {
   "cell_type": "code",
   "execution_count": null,
   "id": "86dbbe0f",
   "metadata": {},
   "outputs": [],
   "source": [
    "%debug"
   ]
  },
  {
   "cell_type": "markdown",
   "id": "1f0efc01",
   "metadata": {},
   "source": [
    "## 5. Ausführungsreihenfolge -> Achtung! "
   ]
  },
  {
   "cell_type": "markdown",
   "id": "d21bd7e9",
   "metadata": {},
   "source": [
    "In Jupyter spielt die Ausführungsreihenfolge eine Rolle (wie auch in Python im Allgemeinen), und das kann manchmal ziemlich chaotisch sein. Dies kann zu einigen Fehlern führen, die schwer zu beheben sind."
   ]
  },
  {
   "cell_type": "code",
   "execution_count": null,
   "id": "6c159fa4",
   "metadata": {},
   "outputs": [],
   "source": [
    "def f(x):\n",
    "    return x +2"
   ]
  },
  {
   "cell_type": "code",
   "execution_count": null,
   "id": "401c51e5",
   "metadata": {},
   "outputs": [],
   "source": [
    "y = f(2)"
   ]
  },
  {
   "cell_type": "code",
   "execution_count": null,
   "id": "c758240e",
   "metadata": {},
   "outputs": [],
   "source": [
    "y = 5"
   ]
  },
  {
   "cell_type": "code",
   "execution_count": null,
   "id": "0d5750fd",
   "metadata": {},
   "outputs": [],
   "source": [
    "y == 4 "
   ]
  },
  {
   "cell_type": "code",
   "execution_count": null,
   "id": "c8a87ac9",
   "metadata": {},
   "outputs": [],
   "source": [
    "print(y)"
   ]
  },
  {
   "cell_type": "markdown",
   "id": "b509681c",
   "metadata": {},
   "source": [
    "Dieser Vortrag geht sehr ausführlich auf dieses und andere Probleme mit Jupyter ein: https://docs.google.com/presentation/d/1n2RlMdmv1p25Xy5thJUhkKGvjtV-dkAIsUXP-AL4ffI/edit#slide=id.g362da58057_0_1 (sehr empfehlenswert!)"
   ]
  },
  {
   "attachments": {},
   "cell_type": "markdown",
   "id": "ce33a016",
   "metadata": {},
   "source": [
    "## 6. Shortcuts und allgemeine Tipps"
   ]
  },
  {
   "cell_type": "markdown",
   "id": "e91926a1",
   "metadata": {},
   "source": [
    "Es gibt zwei verschiedene Möglichkeiten, mit Jupyter zu interagieren. \n",
    "1. Der Bearbeitungsmodus: Ihr könnt in eine Zelle tippen und mit ihr interagieren. Die Zelle wird mit einem blauen Rahmen hervorgehoben. Um vom Auswahlmodus in den Bearbeitungsmodus zu gelangen, drückt einfach `Enter`. \n",
    "2. Der Auswahlmodus: Mit `j` und `k` könnt ihr durch die Zellen navigieren. Ihr könnt neue Zellen oberhalb (`a`) und unterhalb (`b`) hinzufügen. Löscht eine Zelle mit `d+d`. Vom Bearbeitungsmodus in den Auswahlmodus gelangt man durch Drücken von `esc`. "
   ]
  },
  {
   "cell_type": "markdown",
   "id": "239bcf46",
   "metadata": {},
   "source": [
    "Zusätzliche shortcuts: \n",
    "- `shift + enter` führt die aktuelle Zelle aus und geht in die nächste (fügt eine neue Zelle hinzu falls am Ende des Notebooks)  \n",
    "- `ctrl + enter` führt die aktuelle Zelle aus und bleibt da \n",
    "- `shift + tab` zeigt die Dokumentation \n",
    "- `0 + 0` (im Auswahlmodus) startet den Kernel neu \n",
    "- `m` (im Auswahlmodus) schaltet eine Zelle auf Markdown um \n",
    "- `cmd + /` Kommetiert markierte Zeilen (oder macht Kommentierung rückgängig) "
   ]
  },
  {
   "cell_type": "markdown",
   "id": "4f3878b3",
   "metadata": {},
   "source": [
    "# Python Wiederholung\n"
   ]
  },
  {
   "cell_type": "markdown",
   "id": "d914d016",
   "metadata": {},
   "source": [
    "## Daten Strukturen\n",
    "\n"
   ]
  },
  {
   "cell_type": "code",
   "execution_count": null,
   "id": "c1fd6842",
   "metadata": {},
   "outputs": [],
   "source": [
    "a_int = 3\n",
    "a_float = 4.4\n",
    "a_bool = True\n",
    "a_str = 'hello'\n",
    "a_list = [1, 2.4, 'goodbye', [12, 2, 3]]\n",
    "a_list.append(\"new value\")\n",
    "a_tuple = (4, 3.5, 'dog', 'cat')\n",
    "a_dict = {1: 5,\n",
    "          'a': 2,\n",
    "          'b': 'cat',\n",
    "          'dog': 8}\n",
    "a_set = {1, 1, 2}"
   ]
  },
  {
   "cell_type": "markdown",
   "id": "40815518",
   "metadata": {},
   "source": [
    "## Operatoren"
   ]
  },
  {
   "cell_type": "code",
   "execution_count": null,
   "id": "c1c8a0c7",
   "metadata": {},
   "outputs": [],
   "source": [
    "a = 2.0\n",
    "b = 4.0\n",
    "print(\"sum:\", a + b)\n",
    "print(\"product:\", a * b)\n",
    "print(\"division:\", a / b)\n",
    "print(\"division and floor:\", a // b)\n",
    "print(\"power:\", a ** b)"
   ]
  },
  {
   "cell_type": "code",
   "execution_count": null,
   "id": "6c7b591d",
   "metadata": {},
   "outputs": [],
   "source": [
    "x = True\n",
    "y = False\n",
    "print(\"and:\", x and y)\n",
    "print(\"or:\", x or y)\n",
    "print(\"not:\", not x)\n",
    "print(\"greater-equal:\", a >= b)\n",
    "print(\"equal:\", a == b)\n",
    "print(\"not equal:\", a != b)"
   ]
  },
  {
   "cell_type": "markdown",
   "id": "a77181d5",
   "metadata": {},
   "source": [
    "## Kontrollsturkturen"
   ]
  },
  {
   "cell_type": "markdown",
   "id": "44902a06",
   "metadata": {},
   "source": [
    "### Das if-statement"
   ]
  },
  {
   "cell_type": "code",
   "execution_count": null,
   "id": "7a6238fd",
   "metadata": {},
   "outputs": [],
   "source": [
    "number = 23\n",
    "guess = int(input('Enter an integer : '))\n",
    "\n",
    "if guess == number:\n",
    "    print('Congratulations, you guessed it.')\n",
    "    print('(but you do not win any prizes!)')\n",
    "elif guess < number:\n",
    "    print('No, it is a little higher than that')\n",
    "else:\n",
    "    print('No, it is a little lower than that')\n"
   ]
  },
  {
   "cell_type": "markdown",
   "id": "74af9eec",
   "metadata": {},
   "source": [
    "### Schleifen"
   ]
  },
  {
   "cell_type": "code",
   "execution_count": null,
   "id": "3fed3ab2",
   "metadata": {},
   "outputs": [],
   "source": [
    "for x in [\"a\", \"b\", \"c\"]:\n",
    "    print(x)\n",
    "\n",
    "ab = {\n",
    "    'Swaroop': 'swaroop@swaroopch.com',\n",
    "    'Larry': 'larry@wall.org',\n",
    "    'Matsumoto': 'matz@ruby-lang.org',\n",
    "    'Spammer': 'spammer@hotmail.com'\n",
    "}\n",
    "for name, email in ab.items():\n",
    "    print(name, email)\n",
    "\n",
    "for i in range(5):\n",
    "    if i == 2:\n",
    "        print(\"skipping\")\n",
    "        continue\n",
    "    elif i == 4:\n",
    "        print(\"terminating\")\n",
    "        break\n",
    "    print(i)\n",
    "\n",
    "i = 10 \n",
    "while i > 5:\n",
    "    i -= 1\n",
    "    print(i)\n",
    "\n",
    "\n",
    "    "
   ]
  },
  {
   "cell_type": "markdown",
   "id": "098bb231",
   "metadata": {},
   "source": [
    "## Funktionen"
   ]
  },
  {
   "cell_type": "code",
   "execution_count": null,
   "id": "847c4178",
   "metadata": {},
   "outputs": [],
   "source": [
    "def maximum(x, y):\n",
    "    if x > y:\n",
    "        return x\n",
    "    elif x == y:\n",
    "        return 'The numbers are equal'\n",
    "    else:\n",
    "        return y\n",
    "\n",
    "print(maximum(2, 3))\n",
    "\n",
    "def my_great_function(a, b=4, *arg, **kwargs):\n",
    "    return a + b, 4\n",
    "\n",
    "z, b = my_great_function(2, 4)"
   ]
  },
  {
   "cell_type": "markdown",
   "id": "bad52bbc",
   "metadata": {},
   "source": [
    "## Klassen"
   ]
  },
  {
   "cell_type": "code",
   "execution_count": null,
   "id": "cc1bc28a",
   "metadata": {},
   "outputs": [],
   "source": [
    "class UniMember:\n",
    "    '''Represents any school member.'''\n",
    "    def __init__(self, name, age):\n",
    "        self.name = name\n",
    "        self.age = age\n",
    "        print('(Initialized SchoolMember: {})'.format(self.name))\n",
    "\n",
    "    def tell(self):\n",
    "        '''Tell my details.'''\n",
    "        print('Name:\"{}\" Age:\"{}\"'.format(self.name, self.age), end=\" \")\n",
    "\n",
    "\n",
    "class Professor(UniMember):\n",
    "    '''Represents a teacher.'''\n",
    "    def __init__(self, name, age, salary):\n",
    "        UniMember.__init__(self, name, age)\n",
    "        self.salary = salary\n",
    "        print('(Initialized Teacher: {})'.format(self.name))\n",
    "\n",
    "    def tell(self):\n",
    "        UniMember.tell(self)\n",
    "        print('Salary: \"{:d}\"'.format(self.salary))\n",
    "\n",
    "\n",
    "class Student(UniMember):\n",
    "    '''Represents a student.'''\n",
    "    def __init__(self, name, age, marks):\n",
    "        UniMember.__init__(self, name, age)\n",
    "        self.marks = marks\n",
    "        print('(Initialized Student: {})'.format(self.name))\n",
    "\n",
    "    def tell(self):\n",
    "        UniMember.tell(self)\n",
    "        print('Marks: \"{:d}\"'.format(self.marks))\n",
    "\n",
    "t = Professor('Charles Xavier', 60, 30000)\n",
    "s = Student('John Doe', 25, 75)\n",
    "\n",
    "# prints a blank line\n",
    "print()\n",
    "\n",
    "members = [t, s]\n",
    "for member in members:\n",
    "    # Works for both Teachers and Students\n",
    "    member.tell()"
   ]
  },
  {
   "cell_type": "markdown",
   "id": "e2dc3adc",
   "metadata": {},
   "source": [
    "## Pakete und Imports"
   ]
  },
  {
   "cell_type": "code",
   "execution_count": null,
   "id": "da86465c",
   "metadata": {},
   "outputs": [],
   "source": [
    "import math\n",
    "from math import sin\n",
    "\n",
    "sin(3.14)"
   ]
  },
  {
   "cell_type": "markdown",
   "id": "940f2961",
   "metadata": {},
   "source": [
    "# Python Übung\n",
    "\n",
    "Für den gegebenen Text, zählt wie oft die einzelnen Wörter im Text vorkommen. \n",
    "Schreibt dies als eine Funktion, die den Text als `string` entgegennimmt und ein `dict` zurück gibt mit allen Wörtern und ihrer Häufigkeit. "
   ]
  },
  {
   "cell_type": "code",
   "execution_count": null,
   "id": "fd958398",
   "metadata": {},
   "outputs": [],
   "source": [
    "text = \"One ring to rule them all, one ring to find them, One ring to bring them all, and in the darkness bind them; In the Land of Mordor where the shadows lie.\""
   ]
  },
  {
   "cell_type": "markdown",
   "id": "381ad7f3",
   "metadata": {},
   "source": [
    "## Hinweise:"
   ]
  },
  {
   "cell_type": "markdown",
   "id": "78c245d3",
   "metadata": {},
   "source": [
    "\n",
    " - `split()` um Strings in Listen umzuwandeln\n",
    "- Durchloopen durch den Text\n",
    "- Check ob im dict: `if word in dict`\n",
    "- Init auf `1`\n",
    "- Inkrementieren"
   ]
  },
  {
   "cell_type": "markdown",
   "id": "583125b7",
   "metadata": {},
   "source": [
    "## Lösung:"
   ]
  },
  {
   "cell_type": "code",
   "execution_count": null,
   "id": "993fb614",
   "metadata": {},
   "outputs": [],
   "source": [
    "word_list = text.split()\n",
    "word_counts = {}\n",
    "for word in word_list:\n",
    "    if word in word_counts:\n",
    "        word_counts[word] += 1\n",
    "    else:\n",
    "        word_counts[word] = 1\n",
    "print(word_counts)"
   ]
  },
  {
   "cell_type": "markdown",
   "metadata": {},
   "source": [
    "# Zusätzliche Inhalte"
   ]
  },
  {
   "cell_type": "markdown",
   "metadata": {
    "jp-MarkdownHeadingCollapsed": true,
    "pycharm": {
     "name": "#%% md\n"
    },
    "tags": []
   },
   "source": [
    "## Indexing und Slicing"
   ]
  },
  {
   "cell_type": "markdown",
   "metadata": {},
   "source": [
    "Wie greifen wir auf die Elemente dieser Datenstrukturen zu? Wir verwenden Indizierung.\n",
    "\n",
    "Wir können auf jedes Element in einem Tupel oder einer Liste über den entsprechenden Index zugreifen. Python ist im Gegensatz zu Matlab eine 0-indizierte Sprache, d.h. der erste Index ist 0. Um auf das erste Element zuzugreifen, verwenden wir also den Index 0\n",
    "\n",
    "Ein weiterer Punkt für Matlab-Benutzer ist, dass wir eckige Klammern für die Indizierung verwenden und keine runden Klammern wie in Matlab."
   ]
  },
  {
   "cell_type": "code",
   "execution_count": null,
   "metadata": {},
   "outputs": [],
   "source": [
    "a_tuple = (1, 2, 3, 4)\n",
    "a_list = [1, 2, 3, 4]"
   ]
  },
  {
   "cell_type": "code",
   "execution_count": null,
   "metadata": {},
   "outputs": [],
   "source": [
    "a_tuple[0]"
   ]
  },
  {
   "cell_type": "code",
   "execution_count": null,
   "metadata": {
    "pycharm": {
     "name": "#%%\n"
    }
   },
   "outputs": [],
   "source": [
    "a_list[0]"
   ]
  },
  {
   "cell_type": "code",
   "execution_count": null,
   "metadata": {
    "pycharm": {
     "name": "#%%\n"
    }
   },
   "outputs": [],
   "source": [
    "a_list[3]"
   ]
  },
  {
   "cell_type": "markdown",
   "metadata": {
    "pycharm": {
     "name": "#%% md\n"
    }
   },
   "source": [
    "But there is more into indexing"
   ]
  },
  {
   "cell_type": "markdown",
   "metadata": {
    "pycharm": {
     "name": "#%% md\n"
    }
   },
   "source": [
    "We can get several elements by specifying the range of the indices:"
   ]
  },
  {
   "cell_type": "code",
   "execution_count": null,
   "metadata": {
    "pycharm": {
     "name": "#%%\n"
    }
   },
   "outputs": [],
   "source": [
    "a_list"
   ]
  },
  {
   "cell_type": "code",
   "execution_count": null,
   "metadata": {},
   "outputs": [],
   "source": [
    "a_list[0:3]"
   ]
  },
  {
   "cell_type": "markdown",
   "metadata": {},
   "source": [
    "**Achtung!** die untere Grenze ist in der Ausgabe enthalten, nicht aber die obere Grenze, d.h. `a_list[3]` ist nicht in der Ausgabe.\n",
    "\n",
    "Was können wir noch machen? Vielleicht wollen wir Elemente überspringen?"
   ]
  },
  {
   "cell_type": "code",
   "execution_count": null,
   "metadata": {},
   "outputs": [],
   "source": [
    "a_list[0:4:2] # by default this is 1"
   ]
  },
  {
   "cell_type": "markdown",
   "metadata": {},
   "source": [
    "Python akzeptiert auch negative Zahlen als Index. Dann starten wir Zählen von rechts. "
   ]
  },
  {
   "cell_type": "code",
   "execution_count": null,
   "metadata": {
    "pycharm": {
     "name": "#%%\n"
    }
   },
   "outputs": [],
   "source": [
    "a_tuple[-2]"
   ]
  },
  {
   "cell_type": "markdown",
   "metadata": {},
   "source": [
    "## "
   ]
  }
 ],
 "metadata": {
  "kernelspec": {
   "display_name": "pg",
   "language": "python",
   "name": "python3"
  },
  "language_info": {
   "codemirror_mode": {
    "name": "ipython",
    "version": 3
   },
   "file_extension": ".py",
   "mimetype": "text/x-python",
   "name": "python",
   "nbconvert_exporter": "python",
   "pygments_lexer": "ipython3",
   "version": "3.10.10"
  },
  "vscode": {
   "interpreter": {
    "hash": "45cd9a695cddca843adb90a459ff9f916ac929026819e79358bb98b861679f88"
   }
  }
 },
 "nbformat": 4,
 "nbformat_minor": 5
}
